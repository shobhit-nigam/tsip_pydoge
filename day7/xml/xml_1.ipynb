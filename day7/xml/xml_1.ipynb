{
 "cells": [
  {
   "cell_type": "code",
   "execution_count": 1,
   "metadata": {},
   "outputs": [],
   "source": [
    "import xml.etree.ElementTree as ET"
   ]
  },
  {
   "cell_type": "code",
   "execution_count": 2,
   "metadata": {},
   "outputs": [],
   "source": [
    "objt = ET.parse('bookx.xml')"
   ]
  },
  {
   "cell_type": "code",
   "execution_count": 3,
   "metadata": {},
   "outputs": [],
   "source": [
    "objr = objt.getroot()"
   ]
  },
  {
   "cell_type": "code",
   "execution_count": 4,
   "metadata": {},
   "outputs": [
    {
     "data": {
      "text/plain": [
       "<Element 'catalog' at 0x7ff2848f4c50>"
      ]
     },
     "execution_count": 4,
     "metadata": {},
     "output_type": "execute_result"
    }
   ],
   "source": [
    "objr"
   ]
  },
  {
   "cell_type": "code",
   "execution_count": 5,
   "metadata": {},
   "outputs": [
    {
     "data": {
      "text/plain": [
       "'catalog'"
      ]
     },
     "execution_count": 5,
     "metadata": {},
     "output_type": "execute_result"
    }
   ],
   "source": [
    "objr.tag"
   ]
  },
  {
   "cell_type": "code",
   "execution_count": 6,
   "metadata": {},
   "outputs": [
    {
     "data": {
      "text/plain": [
       "{}"
      ]
     },
     "execution_count": 6,
     "metadata": {},
     "output_type": "execute_result"
    }
   ],
   "source": [
    "objr.attrib"
   ]
  },
  {
   "cell_type": "code",
   "execution_count": 8,
   "metadata": {},
   "outputs": [
    {
     "data": {
      "text/plain": [
       "'book'"
      ]
     },
     "execution_count": 8,
     "metadata": {},
     "output_type": "execute_result"
    }
   ],
   "source": [
    "objr[0].tag"
   ]
  },
  {
   "cell_type": "code",
   "execution_count": 9,
   "metadata": {},
   "outputs": [
    {
     "data": {
      "text/plain": [
       "{'id': 'bk101'}"
      ]
     },
     "execution_count": 9,
     "metadata": {},
     "output_type": "execute_result"
    }
   ],
   "source": [
    "objr[0].attrib"
   ]
  },
  {
   "cell_type": "code",
   "execution_count": 11,
   "metadata": {},
   "outputs": [
    {
     "name": "stdout",
     "output_type": "stream",
     "text": [
      "book\n",
      "book\n",
      "book\n",
      "book\n",
      "book\n",
      "book\n",
      "book\n",
      "book\n",
      "book\n",
      "book\n",
      "book\n",
      "book\n"
     ]
    }
   ],
   "source": [
    "for child in objr:\n",
    "    print(child.tag)"
   ]
  },
  {
   "cell_type": "code",
   "execution_count": 12,
   "metadata": {},
   "outputs": [
    {
     "name": "stdout",
     "output_type": "stream",
     "text": [
      "{'id': 'bk101'}\n",
      "{'id': 'bk102'}\n",
      "{'id': 'bk103'}\n",
      "{'id': 'bk104'}\n",
      "{'id': 'bk105'}\n",
      "{'id': 'bk106'}\n",
      "{'id': 'bk107'}\n",
      "{'id': 'bk108'}\n",
      "{'id': 'bk109'}\n",
      "{'id': 'bk110'}\n",
      "{'id': 'bk111'}\n",
      "{'id': 'bk112'}\n"
     ]
    }
   ],
   "source": [
    "for child in objr:\n",
    "    print(child.attrib)"
   ]
  },
  {
   "cell_type": "code",
   "execution_count": 16,
   "metadata": {},
   "outputs": [
    {
     "name": "stdout",
     "output_type": "stream",
     "text": [
      "author = Gambardella, Matthew\n",
      "title = XML Developer's Guide\n",
      "genre = Computer\n",
      "price = 44.95\n",
      "publish_date = 2000-10-01\n",
      "description = An in-depth look at creating applications \n",
      "      with XML.\n",
      "-----\n",
      "author = Ralls, Kim\n",
      "title = Midnight Rain\n",
      "genre = Fantasy\n",
      "price = 5.95\n",
      "publish_date = 2000-12-16\n",
      "description = A former architect battles corporate zombies, \n",
      "      an evil sorceress, and her own childhood to become queen \n",
      "      of the world.\n",
      "-----\n",
      "author = Corets, Eva\n",
      "title = Maeve Ascendant\n",
      "genre = Fantasy\n",
      "price = 5.95\n",
      "publish_date = 2000-11-17\n",
      "description = After the collapse of a nanotechnology \n",
      "      society in England, the young survivors lay the \n",
      "      foundation for a new society.\n",
      "-----\n",
      "author = Corets, Eva\n",
      "title = Oberon's Legacy\n",
      "genre = Fantasy\n",
      "price = 5.95\n",
      "publish_date = 2001-03-10\n",
      "description = In post-apocalypse England, the mysterious \n",
      "      agent known only as Oberon helps to create a new life \n",
      "      for the inhabitants of London. Sequel to Maeve \n",
      "      Ascendant.\n",
      "-----\n",
      "author = Corets, Eva\n",
      "title = The Sundered Grail\n",
      "genre = Fantasy\n",
      "price = 5.95\n",
      "publish_date = 2001-09-10\n",
      "description = The two daughters of Maeve, half-sisters, \n",
      "      battle one another for control of England. Sequel to \n",
      "      Oberon's Legacy.\n",
      "-----\n",
      "author = Randall, Cynthia\n",
      "title = Lover Birds\n",
      "genre = Romance\n",
      "price = 4.95\n",
      "publish_date = 2000-09-02\n",
      "description = When Carla meets Paul at an ornithology \n",
      "      conference, tempers fly as feathers get ruffled.\n",
      "-----\n",
      "author = Thurman, Paula\n",
      "title = Splish Splash\n",
      "genre = Romance\n",
      "price = 4.95\n",
      "publish_date = 2000-11-02\n",
      "description = A deep sea diver finds true love twenty \n",
      "      thousand leagues beneath the sea.\n",
      "-----\n",
      "author = Knorr, Stefan\n",
      "title = Creepy Crawlies\n",
      "genre = Horror\n",
      "price = 4.95\n",
      "publish_date = 2000-12-06\n",
      "description = An anthology of horror stories about roaches,\n",
      "      centipedes, scorpions  and other insects.\n",
      "-----\n",
      "author = Kress, Peter\n",
      "title = Paradox Lost\n",
      "genre = Science Fiction\n",
      "price = 6.95\n",
      "publish_date = 2000-11-02\n",
      "description = After an inadvertant trip through a Heisenberg\n",
      "      Uncertainty Device, James Salway discovers the problems \n",
      "      of being quantum.\n",
      "-----\n",
      "author = O'Brien, Tim\n",
      "title = Microsoft .NET: The Programming Bible\n",
      "genre = Computer\n",
      "price = 36.95\n",
      "publish_date = 2000-12-09\n",
      "description = Microsoft's .NET initiative is explored in \n",
      "      detail in this deep programmer's reference.\n",
      "-----\n",
      "author = O'Brien, Tim\n",
      "title = MSXML3: A Comprehensive Guide\n",
      "genre = Computer\n",
      "price = 36.95\n",
      "publish_date = 2000-12-01\n",
      "description = The Microsoft MSXML3 parser is covered in \n",
      "      detail, with attention to XML DOM interfaces, XSLT processing, \n",
      "      SAX and more.\n",
      "-----\n",
      "author = Galos, Mike\n",
      "title = Visual Studio 7: A Comprehensive Guide\n",
      "genre = Computer\n",
      "price = 49.95\n",
      "publish_date = 2001-04-16\n",
      "description = Microsoft Visual Studio 7 is explored in depth,\n",
      "      looking at how Visual Basic, Visual C++, C#, and ASP+ are \n",
      "      integrated into a comprehensive development \n",
      "      environment.\n",
      "-----\n"
     ]
    }
   ],
   "source": [
    "for child in objr:\n",
    "    for data in child:\n",
    "        print(data.tag, \"=\",  data.text)\n",
    "    print(\"-----\")"
   ]
  },
  {
   "cell_type": "code",
   "execution_count": 18,
   "metadata": {},
   "outputs": [
    {
     "name": "stdout",
     "output_type": "stream",
     "text": [
      "XML Developer's Guide\n",
      "-----\n",
      "Midnight Rain\n",
      "-----\n",
      "Maeve Ascendant\n",
      "-----\n",
      "Oberon's Legacy\n",
      "-----\n",
      "The Sundered Grail\n",
      "-----\n",
      "Lover Birds\n",
      "-----\n",
      "Splish Splash\n",
      "-----\n",
      "Creepy Crawlies\n",
      "-----\n",
      "Paradox Lost\n",
      "-----\n",
      "Microsoft .NET: The Programming Bible\n",
      "-----\n",
      "MSXML3: A Comprehensive Guide\n",
      "-----\n",
      "Visual Studio 7: A Comprehensive Guide\n",
      "-----\n"
     ]
    }
   ],
   "source": [
    "for child in objr:\n",
    "    print(child[1].text)\n",
    "    print(\"-----\")"
   ]
  },
  {
   "cell_type": "code",
   "execution_count": 21,
   "metadata": {},
   "outputs": [],
   "source": [
    "with open(\"books.txt\", \"w\") as fa:\n",
    "    for child in objr:\n",
    "        fa.write(child[1].text+\"\\n\")"
   ]
  },
  {
   "cell_type": "code",
   "execution_count": 23,
   "metadata": {},
   "outputs": [
    {
     "name": "stdout",
     "output_type": "stream",
     "text": [
      "Gambardella, Matthew\n",
      "XML Developer's Guide\n",
      "-----\n",
      "Ralls, Kim\n",
      "Midnight Rain\n",
      "-----\n",
      "Corets, Eva\n",
      "Maeve Ascendant\n",
      "-----\n",
      "Corets, Eva\n",
      "Oberon's Legacy\n",
      "-----\n",
      "Corets, Eva\n",
      "The Sundered Grail\n",
      "-----\n",
      "Randall, Cynthia\n",
      "Lover Birds\n",
      "-----\n",
      "Thurman, Paula\n",
      "Splish Splash\n",
      "-----\n",
      "Knorr, Stefan\n",
      "Creepy Crawlies\n",
      "-----\n",
      "Kress, Peter\n",
      "Paradox Lost\n",
      "-----\n",
      "O'Brien, Tim\n",
      "Microsoft .NET: The Programming Bible\n",
      "-----\n",
      "O'Brien, Tim\n",
      "MSXML3: A Comprehensive Guide\n",
      "-----\n",
      "Galos, Mike\n",
      "Visual Studio 7: A Comprehensive Guide\n",
      "-----\n"
     ]
    }
   ],
   "source": [
    "for child in objr.findall('book'):\n",
    "    name = child.find('author').text\n",
    "    bk = child.find('title').text\n",
    "    print(name)\n",
    "    print(bk)\n",
    "    print(\"-----\")"
   ]
  },
  {
   "cell_type": "code",
   "execution_count": 24,
   "metadata": {},
   "outputs": [],
   "source": [
    "with open(\"bookx.xml\", \"r\") as fa:\n",
    "    stra = fa.read()"
   ]
  },
  {
   "cell_type": "code",
   "execution_count": 30,
   "metadata": {},
   "outputs": [],
   "source": [
    "def copy_xml(oldfile, newfile, num):\n",
    "    with open(oldfile, \"r\") as fa:\n",
    "        first_line = fa.readline()\n",
    "        stra = fa.read()\n",
    "    with open(newfile, \"w\") as fb:\n",
    "        fb.write(first_line)\n",
    "    for i in range(num):\n",
    "        with open(newfile, \"a\") as fb:\n",
    "            fb.write(\"\\n\"+stra)"
   ]
  },
  {
   "cell_type": "code",
   "execution_count": 31,
   "metadata": {},
   "outputs": [],
   "source": [
    "copy_xml(\"bookx.xml\", \"new_book.xml\", 6)"
   ]
  },
  {
   "cell_type": "code",
   "execution_count": 32,
   "metadata": {},
   "outputs": [
    {
     "name": "stdout",
     "output_type": "stream",
     "text": [
      "44.95\n",
      "5.95\n",
      "5.95\n",
      "5.95\n",
      "5.95\n",
      "4.95\n",
      "4.95\n",
      "4.95\n",
      "6.95\n",
      "36.95\n",
      "36.95\n",
      "49.95\n"
     ]
    }
   ],
   "source": [
    "for data in objr.iter('price'):\n",
    "    print(data.text)\n",
    "    "
   ]
  },
  {
   "cell_type": "code",
   "execution_count": null,
   "metadata": {},
   "outputs": [],
   "source": []
  },
  {
   "cell_type": "code",
   "execution_count": 35,
   "metadata": {},
   "outputs": [],
   "source": [
    "objt = ET.parse('booky.xml')\n",
    "objr = objt.getroot()\n",
    "\n",
    "\n",
    "for data in objr.iter('price'):\n",
    "    new_price = float(data.text) * 1.1\n",
    "    data.text = str(new_price)\n",
    "    data.set('updated', 'yes')\n",
    "    \n",
    "objt.write(\"booy_new.xml\")"
   ]
  },
  {
   "cell_type": "code",
   "execution_count": 37,
   "metadata": {},
   "outputs": [],
   "source": [
    "objt = ET.parse('booky.xml')\n",
    "objr = objt.getroot()\n",
    "\n",
    "new_price_list = []\n",
    "\n",
    "\n",
    "for data in objr.iter('price'):\n",
    "    new_price_list.append(float(data.text) * 1.1)\n",
    "\n",
    "i = 0\n",
    "ET.SubElement(objr[0], 'new_price')\n",
    "for data in objr.iter('new_price'):\n",
    "    data.text = str(round(new_price_list[i], 3))\n",
    "    i = i+1\n",
    "\n",
    "    \n",
    "objt.write(\"bookz.xml\")"
   ]
  },
  {
   "cell_type": "code",
   "execution_count": null,
   "metadata": {},
   "outputs": [],
   "source": []
  }
 ],
 "metadata": {
  "kernelspec": {
   "display_name": "Python 3",
   "language": "python",
   "name": "python3"
  },
  "language_info": {
   "codemirror_mode": {
    "name": "ipython",
    "version": 3
   },
   "file_extension": ".py",
   "mimetype": "text/x-python",
   "name": "python",
   "nbconvert_exporter": "python",
   "pygments_lexer": "ipython3",
   "version": "3.7.7"
  }
 },
 "nbformat": 4,
 "nbformat_minor": 4
}

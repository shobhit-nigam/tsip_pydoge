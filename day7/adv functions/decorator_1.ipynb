{
 "cells": [
  {
   "cell_type": "code",
   "execution_count": 1,
   "metadata": {},
   "outputs": [],
   "source": [
    "def funca():\n",
    "    print(\"plain ganesha\")"
   ]
  },
  {
   "cell_type": "code",
   "execution_count": 2,
   "metadata": {},
   "outputs": [],
   "source": [
    "def funcb(gen):\n",
    "    def funcc():\n",
    "        gen()\n",
    "        print(\"decorated ganesha\")\n",
    "    return funcc"
   ]
  },
  {
   "cell_type": "code",
   "execution_count": 3,
   "metadata": {},
   "outputs": [
    {
     "data": {
      "text/plain": [
       "<function __main__.funcb.<locals>.funcc()>"
      ]
     },
     "execution_count": 3,
     "metadata": {},
     "output_type": "execute_result"
    }
   ],
   "source": [
    "funcb(funca)"
   ]
  },
  {
   "cell_type": "code",
   "execution_count": 4,
   "metadata": {},
   "outputs": [],
   "source": [
    "funcx = funcb(funca)      #  funcx = funcc"
   ]
  },
  {
   "cell_type": "code",
   "execution_count": 5,
   "metadata": {},
   "outputs": [
    {
     "name": "stdout",
     "output_type": "stream",
     "text": [
      "plain ganesha\n"
     ]
    }
   ],
   "source": [
    "funca()"
   ]
  },
  {
   "cell_type": "code",
   "execution_count": 6,
   "metadata": {},
   "outputs": [
    {
     "name": "stdout",
     "output_type": "stream",
     "text": [
      "plain ganesha\n",
      "decorated ganesha\n"
     ]
    }
   ],
   "source": [
    "funcx()"
   ]
  },
  {
   "cell_type": "code",
   "execution_count": 7,
   "metadata": {},
   "outputs": [],
   "source": [
    "def sample():\n",
    "    print(\"in sample\")"
   ]
  },
  {
   "cell_type": "code",
   "execution_count": 8,
   "metadata": {},
   "outputs": [
    {
     "name": "stdout",
     "output_type": "stream",
     "text": [
      "in sample\n"
     ]
    }
   ],
   "source": [
    "x = sample()\n",
    "y = sample \n",
    "\n"
   ]
  },
  {
   "cell_type": "code",
   "execution_count": null,
   "metadata": {},
   "outputs": [],
   "source": [
    "# x()   same as None"
   ]
  },
  {
   "cell_type": "code",
   "execution_count": 9,
   "metadata": {},
   "outputs": [
    {
     "name": "stdout",
     "output_type": "stream",
     "text": [
      "None\n"
     ]
    }
   ],
   "source": [
    "print(x)"
   ]
  },
  {
   "cell_type": "code",
   "execution_count": 10,
   "metadata": {},
   "outputs": [
    {
     "name": "stdout",
     "output_type": "stream",
     "text": [
      "in sample\n"
     ]
    }
   ],
   "source": [
    "y()"
   ]
  },
  {
   "cell_type": "code",
   "execution_count": 11,
   "metadata": {},
   "outputs": [],
   "source": [
    "def funca():\n",
    "    print(\"plain ganesha\")\n",
    "    \n",
    "def funcb(gen):\n",
    "    def funcc():\n",
    "        gen()\n",
    "        print(\"decorated ganesha\")\n",
    "    return funcc\n",
    "\n",
    "funcx = funcb(funca)"
   ]
  },
  {
   "cell_type": "code",
   "execution_count": 12,
   "metadata": {},
   "outputs": [
    {
     "name": "stdout",
     "output_type": "stream",
     "text": [
      "plain ganesha\n",
      "decorated ganesha\n"
     ]
    }
   ],
   "source": [
    "funcx()"
   ]
  },
  {
   "cell_type": "code",
   "execution_count": 13,
   "metadata": {},
   "outputs": [
    {
     "name": "stdout",
     "output_type": "stream",
     "text": [
      "plain ganesha\n",
      "-------\n",
      "plain ganesha\n",
      "decorated ganesha\n"
     ]
    }
   ],
   "source": [
    "def funca():\n",
    "    print(\"plain ganesha\")\n",
    "    \n",
    "def funcb(gen):\n",
    "    def funcc():\n",
    "        gen()\n",
    "        print(\"decorated ganesha\")\n",
    "    return funcc\n",
    "\n",
    "funca()\n",
    "print(\"-------\")\n",
    "funca = funcb(funca)       #funca = funcc\n",
    "funca()"
   ]
  },
  {
   "cell_type": "code",
   "execution_count": 14,
   "metadata": {},
   "outputs": [
    {
     "name": "stdout",
     "output_type": "stream",
     "text": [
      "plain ganesha\n",
      "-------\n",
      "plain ganesha\n",
      "decorated ganesha\n"
     ]
    }
   ],
   "source": [
    "def funcb(gen):\n",
    "    def funcc():\n",
    "        gen()\n",
    "        print(\"decorated ganesha\")\n",
    "    return funcc\n",
    "\n",
    "def funca():\n",
    "    print(\"plain ganesha\")\n",
    "\n",
    "funca()\n",
    "print(\"-------\")\n",
    "funca = funcb(funca)       #funca = funcc\n",
    "funca()"
   ]
  },
  {
   "cell_type": "code",
   "execution_count": 15,
   "metadata": {},
   "outputs": [],
   "source": [
    "def funcb(gen):\n",
    "    def funcc():\n",
    "        gen()\n",
    "        print(\"decorated ganesha\")\n",
    "    return funcc\n",
    "\n",
    "def funca():\n",
    "    print(\"plain ganesha\")\n",
    "\n",
    "funca = funcb(funca)       #funca = funcc"
   ]
  },
  {
   "cell_type": "code",
   "execution_count": 16,
   "metadata": {},
   "outputs": [],
   "source": [
    "def funcb(gen):\n",
    "    def funcc():\n",
    "        gen()\n",
    "        print(\"decorated ganesha\")\n",
    "    return funcc\n",
    "\n",
    "@funcb\n",
    "def funca():\n",
    "    print(\"plain ganesha\")"
   ]
  },
  {
   "cell_type": "code",
   "execution_count": 17,
   "metadata": {},
   "outputs": [
    {
     "name": "stdout",
     "output_type": "stream",
     "text": [
      "plain ganesha\n",
      "decorated ganesha\n"
     ]
    }
   ],
   "source": [
    "funca()"
   ]
  },
  {
   "cell_type": "code",
   "execution_count": 18,
   "metadata": {},
   "outputs": [],
   "source": [
    "def hashtag(gen):\n",
    "    def inner():\n",
    "        print(\"########\")\n",
    "        gen()\n",
    "        print(\"########\")\n",
    "    return inner\n",
    "    \n",
    "@hashtag    \n",
    "def display():\n",
    "    print(\"hello there\")"
   ]
  },
  {
   "cell_type": "code",
   "execution_count": 19,
   "metadata": {},
   "outputs": [
    {
     "name": "stdout",
     "output_type": "stream",
     "text": [
      "########\n",
      "hello there\n",
      "########\n"
     ]
    }
   ],
   "source": [
    "display()"
   ]
  },
  {
   "cell_type": "code",
   "execution_count": 20,
   "metadata": {},
   "outputs": [],
   "source": [
    "@hashtag\n",
    "def funca():\n",
    "    print(\"plain ganesha\")"
   ]
  },
  {
   "cell_type": "code",
   "execution_count": 21,
   "metadata": {},
   "outputs": [
    {
     "name": "stdout",
     "output_type": "stream",
     "text": [
      "########\n",
      "plain ganesha\n",
      "########\n"
     ]
    }
   ],
   "source": [
    "funca()"
   ]
  },
  {
   "cell_type": "code",
   "execution_count": 24,
   "metadata": {},
   "outputs": [],
   "source": [
    "def hashtag(gen):\n",
    "    def inner(*args):\n",
    "        print(\"########\")\n",
    "        gen(*args)\n",
    "        print(\"########\")\n",
    "    return inner\n",
    "    \n",
    "@hashtag    \n",
    "def display(stra):\n",
    "    print(stra)"
   ]
  },
  {
   "cell_type": "code",
   "execution_count": 26,
   "metadata": {},
   "outputs": [
    {
     "name": "stdout",
     "output_type": "stream",
     "text": [
      "########\n",
      "hello there\n",
      "########\n"
     ]
    }
   ],
   "source": [
    "display(\"hello there\")"
   ]
  },
  {
   "cell_type": "code",
   "execution_count": null,
   "metadata": {},
   "outputs": [],
   "source": [
    "# not to be executed\n",
    "def hashtag(display):\n",
    "    def inner():\n",
    "        print(\"########\")\n",
    "        display()\n",
    "        print(\"########\")\n",
    "    return inner\n",
    "    \n",
    "@hashtag    \n",
    "def display():\n",
    "    print(\"hello there\")"
   ]
  },
  {
   "cell_type": "code",
   "execution_count": null,
   "metadata": {},
   "outputs": [],
   "source": [
    "# not to be executed\n",
    "def hashtag(display):\n",
    "    def inner():\n",
    "        print(\"########\")\n",
    "        # content of original display function\n",
    "        print(\"########\")\n",
    "    return inner\n",
    "    \n",
    "@hashtag    \n",
    "def display():\n",
    "    print(\"hello there\")"
   ]
  },
  {
   "cell_type": "code",
   "execution_count": 27,
   "metadata": {},
   "outputs": [],
   "source": [
    "def hashtag(gen):\n",
    "    def inner(*args):\n",
    "        print(\"########\")\n",
    "        gen(*args)\n",
    "        print(\"########\")\n",
    "    return inner\n",
    "    \n",
    "@hashtag    \n",
    "def display(stra):\n",
    "    print(stra)"
   ]
  },
  {
   "cell_type": "code",
   "execution_count": 28,
   "metadata": {},
   "outputs": [
    {
     "name": "stdout",
     "output_type": "stream",
     "text": [
      "########\n",
      "happy september\n",
      "########\n"
     ]
    }
   ],
   "source": [
    "display(\"happy september\")"
   ]
  },
  {
   "cell_type": "code",
   "execution_count": 29,
   "metadata": {},
   "outputs": [],
   "source": [
    "def hashtag(gen):\n",
    "    def inner(*args):\n",
    "        print(\"########\")\n",
    "        gen(*args)\n",
    "        print(\"########\")\n",
    "    return inner"
   ]
  },
  {
   "cell_type": "code",
   "execution_count": 30,
   "metadata": {},
   "outputs": [],
   "source": [
    "def star(gen):\n",
    "    def inner(*args):\n",
    "        print(\"********\")\n",
    "        gen(*args)\n",
    "        print(\"********\")\n",
    "    return inner"
   ]
  },
  {
   "cell_type": "code",
   "execution_count": 31,
   "metadata": {},
   "outputs": [],
   "source": [
    "@hashtag\n",
    "def display(stra):\n",
    "    print(stra)"
   ]
  },
  {
   "cell_type": "code",
   "execution_count": 32,
   "metadata": {},
   "outputs": [
    {
     "name": "stdout",
     "output_type": "stream",
     "text": [
      "########\n",
      "hi\n",
      "########\n"
     ]
    }
   ],
   "source": [
    "display(\"hi\")"
   ]
  },
  {
   "cell_type": "code",
   "execution_count": 33,
   "metadata": {},
   "outputs": [],
   "source": [
    "def hashtag(gen):\n",
    "    def inner(*args):\n",
    "        print(\"########\")\n",
    "        gen(*args)\n",
    "        print(\"########\")\n",
    "    return inner\n",
    "\n",
    "def star(gen):\n",
    "    def inner(*args):\n",
    "        print(\"********\")\n",
    "        gen(*args)\n",
    "        print(\"********\")\n",
    "    return inner"
   ]
  },
  {
   "cell_type": "code",
   "execution_count": 34,
   "metadata": {},
   "outputs": [
    {
     "name": "stdout",
     "output_type": "stream",
     "text": [
      "********\n",
      "hi\n",
      "********\n"
     ]
    }
   ],
   "source": [
    "@star\n",
    "def display(stra):\n",
    "    print(stra)\n",
    "    \n",
    "display(\"hi\")"
   ]
  },
  {
   "cell_type": "code",
   "execution_count": 35,
   "metadata": {},
   "outputs": [],
   "source": [
    "def star(gen):\n",
    "    def inner(*args):\n",
    "        print(\"********\")\n",
    "        gen(*args)\n",
    "        print(\"********\")\n",
    "    return inner\n",
    "\n",
    "def hashtag(gen):\n",
    "    def inner(*args):\n",
    "        print(\"########\")\n",
    "        gen(*args)\n",
    "        print(\"########\")\n",
    "    return inner\n",
    "\n",
    "@star\n",
    "@hashtag\n",
    "def display(stra):\n",
    "    print(stra)"
   ]
  },
  {
   "cell_type": "code",
   "execution_count": 36,
   "metadata": {},
   "outputs": [
    {
     "name": "stdout",
     "output_type": "stream",
     "text": [
      "********\n",
      "########\n",
      "hi\n",
      "########\n",
      "********\n"
     ]
    }
   ],
   "source": [
    "display(\"hi\")"
   ]
  },
  {
   "cell_type": "code",
   "execution_count": null,
   "metadata": {},
   "outputs": [],
   "source": [
    "******\n",
    "######\n",
    "hi\n",
    "######\n",
    "******"
   ]
  },
  {
   "cell_type": "code",
   "execution_count": null,
   "metadata": {},
   "outputs": [],
   "source": []
  }
 ],
 "metadata": {
  "kernelspec": {
   "display_name": "Python 3",
   "language": "python",
   "name": "python3"
  },
  "language_info": {
   "codemirror_mode": {
    "name": "ipython",
    "version": 3
   },
   "file_extension": ".py",
   "mimetype": "text/x-python",
   "name": "python",
   "nbconvert_exporter": "python",
   "pygments_lexer": "ipython3",
   "version": "3.7.7"
  }
 },
 "nbformat": 4,
 "nbformat_minor": 4
}

{
 "cells": [
  {
   "cell_type": "code",
   "execution_count": 1,
   "metadata": {},
   "outputs": [
    {
     "name": "stdout",
     "output_type": "stream",
     "text": [
      "Help on method_descriptor:\n",
      "\n",
      "upper(self, /)\n",
      "    Return a copy of the string converted to uppercase.\n",
      "\n"
     ]
    }
   ],
   "source": [
    "help(str.upper)"
   ]
  },
  {
   "cell_type": "code",
   "execution_count": 2,
   "metadata": {},
   "outputs": [
    {
     "name": "stdout",
     "output_type": "stream",
     "text": [
      "Help on built-in function len in module builtins:\n",
      "\n",
      "len(obj, /)\n",
      "    Return the number of items in a container.\n",
      "\n"
     ]
    }
   ],
   "source": [
    "help(len)"
   ]
  },
  {
   "cell_type": "code",
   "execution_count": 3,
   "metadata": {},
   "outputs": [],
   "source": [
    "def funca():\n",
    "    \"\"\"this function is to bring rains\n",
    "    don't pass any arguments\n",
    "    expect nothing in return\"\"\"\n",
    "    \n",
    "    # code\n",
    "    print(\"mmmm\")\n",
    "    la = 100\n",
    "    # code"
   ]
  },
  {
   "cell_type": "code",
   "execution_count": 4,
   "metadata": {},
   "outputs": [
    {
     "name": "stdout",
     "output_type": "stream",
     "text": [
      "this function is to bring rains\n",
      "    don't pass any arguments\n",
      "    expect nothing in return\n"
     ]
    }
   ],
   "source": [
    "print(funca.__doc__)"
   ]
  },
  {
   "cell_type": "code",
   "execution_count": 5,
   "metadata": {},
   "outputs": [],
   "source": [
    "def funca():\n",
    "    print(\"hi\")\n",
    "    \"\"\"this function is to bring rains\n",
    "    don't pass any arguments\n",
    "    expect nothing in return\"\"\"\n",
    "    \n",
    "    # code\n",
    "    print(\"mmmm\")\n",
    "    la = 100\n",
    "    # code"
   ]
  },
  {
   "cell_type": "code",
   "execution_count": 6,
   "metadata": {},
   "outputs": [
    {
     "name": "stdout",
     "output_type": "stream",
     "text": [
      "None\n"
     ]
    }
   ],
   "source": [
    "print(funca.__doc__)"
   ]
  },
  {
   "cell_type": "code",
   "execution_count": 7,
   "metadata": {},
   "outputs": [],
   "source": [
    "def funca():\n",
    "    \"\"\"this function is to bring rains\n",
    "    don't pass any arguments\n",
    "    expect nothing in return\"\"\"\n",
    "    \n",
    "    # code\n",
    "    print(\"mmmm\")\n",
    "    la = 100\n",
    "    # code"
   ]
  },
  {
   "cell_type": "code",
   "execution_count": 8,
   "metadata": {},
   "outputs": [
    {
     "name": "stdout",
     "output_type": "stream",
     "text": [
      "Return a copy of the string converted to uppercase.\n"
     ]
    }
   ],
   "source": [
    "print(str.upper.__doc__)"
   ]
  },
  {
   "cell_type": "code",
   "execution_count": 9,
   "metadata": {},
   "outputs": [
    {
     "name": "stdout",
     "output_type": "stream",
     "text": [
      "this function is to bring rains\n",
      "    don't pass any arguments\n",
      "    expect nothing in return\n"
     ]
    }
   ],
   "source": [
    "print(funca.__doc__)"
   ]
  },
  {
   "cell_type": "code",
   "execution_count": 10,
   "metadata": {},
   "outputs": [
    {
     "name": "stdout",
     "output_type": "stream",
     "text": [
      "Help on function funca in module __main__:\n",
      "\n",
      "funca()\n",
      "    this function is to bring rains\n",
      "    don't pass any arguments\n",
      "    expect nothing in return\n",
      "\n"
     ]
    }
   ],
   "source": [
    "help(funca)"
   ]
  },
  {
   "cell_type": "code",
   "execution_count": 11,
   "metadata": {},
   "outputs": [],
   "source": [
    "funca.__doc__ = \"sdljasdkusdlashol\""
   ]
  },
  {
   "cell_type": "code",
   "execution_count": 12,
   "metadata": {},
   "outputs": [],
   "source": [
    "import sample"
   ]
  },
  {
   "cell_type": "code",
   "execution_count": 13,
   "metadata": {},
   "outputs": [
    {
     "name": "stdout",
     "output_type": "stream",
     "text": [
      "Help on function blue in module sample:\n",
      "\n",
      "blue()\n",
      "    usefull function\n",
      "    for writing \n",
      "    God knows what\n",
      "\n"
     ]
    }
   ],
   "source": [
    "help(sample.blue)"
   ]
  },
  {
   "cell_type": "code",
   "execution_count": 14,
   "metadata": {},
   "outputs": [
    {
     "name": "stdout",
     "output_type": "stream",
     "text": [
      "Help on function red in module sample:\n",
      "\n",
      "red()\n",
      "    code red\n",
      "\n"
     ]
    }
   ],
   "source": [
    "help(sample.red)"
   ]
  },
  {
   "cell_type": "code",
   "execution_count": 15,
   "metadata": {},
   "outputs": [
    {
     "name": "stdout",
     "output_type": "stream",
     "text": [
      "Help on module sample:\n",
      "\n",
      "NAME\n",
      "    sample\n",
      "\n",
      "DESCRIPTION\n",
      "    module to understand the concept of help\n",
      "    and documentation\n",
      "\n",
      "FUNCTIONS\n",
      "    blue()\n",
      "        usefull function\n",
      "        for writing \n",
      "        God knows what\n",
      "    \n",
      "    red()\n",
      "        code red\n",
      "\n",
      "FILE\n",
      "    /Users/shobhit/Desktop/pydoge/day4/documentation/sample.py\n",
      "\n",
      "\n"
     ]
    }
   ],
   "source": [
    "help(sample)"
   ]
  },
  {
   "cell_type": "code",
   "execution_count": 16,
   "metadata": {},
   "outputs": [
    {
     "data": {
      "text/plain": [
       "'hello \\nthere'"
      ]
     },
     "execution_count": 16,
     "metadata": {},
     "output_type": "execute_result"
    }
   ],
   "source": [
    "\"\"\"hello \n",
    "there\"\"\""
   ]
  },
  {
   "cell_type": "code",
   "execution_count": null,
   "metadata": {},
   "outputs": [],
   "source": []
  }
 ],
 "metadata": {
  "kernelspec": {
   "display_name": "Python 3",
   "language": "python",
   "name": "python3"
  },
  "language_info": {
   "codemirror_mode": {
    "name": "ipython",
    "version": 3
   },
   "file_extension": ".py",
   "mimetype": "text/x-python",
   "name": "python",
   "nbconvert_exporter": "python",
   "pygments_lexer": "ipython3",
   "version": "3.7.7"
  }
 },
 "nbformat": 4,
 "nbformat_minor": 4
}

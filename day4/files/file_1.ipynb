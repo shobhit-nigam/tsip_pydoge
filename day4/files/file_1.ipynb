{
 "cells": [
  {
   "cell_type": "code",
   "execution_count": 1,
   "metadata": {},
   "outputs": [],
   "source": [
    "fa = open(\"books.txt\", \"r\")"
   ]
  },
  {
   "cell_type": "code",
   "execution_count": 2,
   "metadata": {},
   "outputs": [],
   "source": [
    "stra = fa.read(4)"
   ]
  },
  {
   "cell_type": "code",
   "execution_count": 3,
   "metadata": {},
   "outputs": [
    {
     "name": "stdout",
     "output_type": "stream",
     "text": [
      "star\n"
     ]
    }
   ],
   "source": [
    "print(stra)"
   ]
  },
  {
   "cell_type": "code",
   "execution_count": 4,
   "metadata": {},
   "outputs": [
    {
     "name": "stdout",
     "output_type": "stream",
     "text": [
      "t wi\n"
     ]
    }
   ],
   "source": [
    "strb = fa.read(4)\n",
    "print(strb)"
   ]
  },
  {
   "cell_type": "code",
   "execution_count": 5,
   "metadata": {},
   "outputs": [
    {
     "name": "stdout",
     "output_type": "stream",
     "text": [
      "th a w\n"
     ]
    }
   ],
   "source": [
    "strb = fa.read(6)\n",
    "print(strb)"
   ]
  },
  {
   "cell_type": "code",
   "execution_count": 6,
   "metadata": {},
   "outputs": [],
   "source": [
    "fa.close()"
   ]
  },
  {
   "cell_type": "code",
   "execution_count": 7,
   "metadata": {},
   "outputs": [
    {
     "name": "stdout",
     "output_type": "stream",
     "text": [
      "start with a why\n",
      "quantum mechanics\n",
      "immortals of meluha\n",
      "2 states\n",
      "murder on the orient express\n",
      "half girlfriend \n",
      "atomic habits\n",
      "think like a monk\n",
      "alchemist\n",
      "the power of your subconscious mind\n"
     ]
    }
   ],
   "source": [
    "fa = open(\"books.txt\", \"r\")\n",
    "stra = fa.read()\n",
    "\n",
    "print(stra)"
   ]
  },
  {
   "cell_type": "code",
   "execution_count": 8,
   "metadata": {},
   "outputs": [
    {
     "name": "stdout",
     "output_type": "stream",
     "text": [
      "187\n"
     ]
    }
   ],
   "source": [
    "print(len(stra))"
   ]
  },
  {
   "cell_type": "code",
   "execution_count": 9,
   "metadata": {},
   "outputs": [],
   "source": [
    "fa.close()"
   ]
  },
  {
   "cell_type": "code",
   "execution_count": 10,
   "metadata": {},
   "outputs": [
    {
     "name": "stdout",
     "output_type": "stream",
     "text": [
      "start with a why\n",
      "\n"
     ]
    }
   ],
   "source": [
    "fa = open(\"books.txt\", \"r\")\n",
    "stra = fa.readline()\n",
    "\n",
    "print(stra)"
   ]
  },
  {
   "cell_type": "code",
   "execution_count": 11,
   "metadata": {},
   "outputs": [
    {
     "name": "stdout",
     "output_type": "stream",
     "text": [
      "quantum mechanics\n",
      "\n"
     ]
    }
   ],
   "source": [
    "stra = fa.readline()\n",
    "\n",
    "print(stra)"
   ]
  },
  {
   "cell_type": "code",
   "execution_count": 13,
   "metadata": {},
   "outputs": [
    {
     "data": {
      "text/plain": [
       "35"
      ]
     },
     "execution_count": 13,
     "metadata": {},
     "output_type": "execute_result"
    }
   ],
   "source": [
    "fa.tell()"
   ]
  },
  {
   "cell_type": "code",
   "execution_count": 14,
   "metadata": {},
   "outputs": [
    {
     "data": {
      "text/plain": [
       "9"
      ]
     },
     "execution_count": 14,
     "metadata": {},
     "output_type": "execute_result"
    }
   ],
   "source": [
    "fa.seek(9)"
   ]
  },
  {
   "cell_type": "code",
   "execution_count": 16,
   "metadata": {},
   "outputs": [
    {
     "data": {
      "text/plain": [
       "'why\\n'"
      ]
     },
     "execution_count": 16,
     "metadata": {},
     "output_type": "execute_result"
    }
   ],
   "source": [
    "fa.read(4)"
   ]
  },
  {
   "cell_type": "code",
   "execution_count": 17,
   "metadata": {},
   "outputs": [
    {
     "data": {
      "text/plain": [
       "False"
      ]
     },
     "execution_count": 17,
     "metadata": {},
     "output_type": "execute_result"
    }
   ],
   "source": [
    "fa.closed"
   ]
  },
  {
   "cell_type": "code",
   "execution_count": 18,
   "metadata": {},
   "outputs": [],
   "source": [
    "fa.close()"
   ]
  },
  {
   "cell_type": "code",
   "execution_count": 19,
   "metadata": {},
   "outputs": [
    {
     "data": {
      "text/plain": [
       "True"
      ]
     },
     "execution_count": 19,
     "metadata": {},
     "output_type": "execute_result"
    }
   ],
   "source": [
    "fa.closed"
   ]
  },
  {
   "cell_type": "code",
   "execution_count": 20,
   "metadata": {},
   "outputs": [],
   "source": [
    "with open(\"books.txt\") as fa:\n",
    "    lista = fa.readlines()"
   ]
  },
  {
   "cell_type": "code",
   "execution_count": 21,
   "metadata": {},
   "outputs": [
    {
     "data": {
      "text/plain": [
       "True"
      ]
     },
     "execution_count": 21,
     "metadata": {},
     "output_type": "execute_result"
    }
   ],
   "source": [
    "fa.closed"
   ]
  },
  {
   "cell_type": "code",
   "execution_count": 22,
   "metadata": {},
   "outputs": [
    {
     "data": {
      "text/plain": [
       "['start with a why\\n',\n",
       " 'quantum mechanics\\n',\n",
       " 'immortals of meluha\\n',\n",
       " '2 states\\n',\n",
       " 'murder on the orient express\\n',\n",
       " 'half girlfriend \\n',\n",
       " 'atomic habits\\n',\n",
       " 'think like a monk\\n',\n",
       " 'alchemist\\n',\n",
       " 'the power of your subconscious mind']"
      ]
     },
     "execution_count": 22,
     "metadata": {},
     "output_type": "execute_result"
    }
   ],
   "source": [
    "lista"
   ]
  },
  {
   "cell_type": "code",
   "execution_count": 23,
   "metadata": {},
   "outputs": [],
   "source": [
    "with open(\"books.txt\") as fa:\n",
    "    stra = fa.read()"
   ]
  },
  {
   "cell_type": "code",
   "execution_count": 24,
   "metadata": {},
   "outputs": [
    {
     "data": {
      "text/plain": [
       "['start',\n",
       " 'with',\n",
       " 'a',\n",
       " 'why',\n",
       " 'quantum',\n",
       " 'mechanics',\n",
       " 'immortals',\n",
       " 'of',\n",
       " 'meluha',\n",
       " '2',\n",
       " 'states',\n",
       " 'murder',\n",
       " 'on',\n",
       " 'the',\n",
       " 'orient',\n",
       " 'express',\n",
       " 'half',\n",
       " 'girlfriend',\n",
       " 'atomic',\n",
       " 'habits',\n",
       " 'think',\n",
       " 'like',\n",
       " 'a',\n",
       " 'monk',\n",
       " 'alchemist',\n",
       " 'the',\n",
       " 'power',\n",
       " 'of',\n",
       " 'your',\n",
       " 'subconscious',\n",
       " 'mind']"
      ]
     },
     "execution_count": 24,
     "metadata": {},
     "output_type": "execute_result"
    }
   ],
   "source": [
    "stra.split()"
   ]
  },
  {
   "cell_type": "code",
   "execution_count": 25,
   "metadata": {},
   "outputs": [
    {
     "data": {
      "text/plain": [
       "['start with a why',\n",
       " 'quantum mechanics',\n",
       " 'immortals of meluha',\n",
       " '2 states',\n",
       " 'murder on the orient express',\n",
       " 'half girlfriend ',\n",
       " 'atomic habits',\n",
       " 'think like a monk',\n",
       " 'alchemist',\n",
       " 'the power of your subconscious mind']"
      ]
     },
     "execution_count": 25,
     "metadata": {},
     "output_type": "execute_result"
    }
   ],
   "source": [
    "stra.splitlines()"
   ]
  },
  {
   "cell_type": "code",
   "execution_count": 26,
   "metadata": {},
   "outputs": [],
   "source": [
    "fb = open(\"new_books.txt\", \"w\")"
   ]
  },
  {
   "cell_type": "code",
   "execution_count": 27,
   "metadata": {},
   "outputs": [
    {
     "data": {
      "text/plain": [
       "20"
      ]
     },
     "execution_count": 27,
     "metadata": {},
     "output_type": "execute_result"
    }
   ],
   "source": [
    "fb.write(\"selected books are:\\n\")"
   ]
  },
  {
   "cell_type": "code",
   "execution_count": 28,
   "metadata": {},
   "outputs": [],
   "source": [
    "fb.close()"
   ]
  },
  {
   "cell_type": "code",
   "execution_count": 29,
   "metadata": {},
   "outputs": [
    {
     "data": {
      "text/plain": [
       "['start with a why\\n',\n",
       " 'quantum mechanics\\n',\n",
       " 'immortals of meluha\\n',\n",
       " '2 states\\n',\n",
       " 'murder on the orient express\\n',\n",
       " 'half girlfriend \\n',\n",
       " 'atomic habits\\n',\n",
       " 'think like a monk\\n',\n",
       " 'alchemist\\n',\n",
       " 'the power of your subconscious mind']"
      ]
     },
     "execution_count": 29,
     "metadata": {},
     "output_type": "execute_result"
    }
   ],
   "source": [
    "lista"
   ]
  },
  {
   "cell_type": "code",
   "execution_count": 30,
   "metadata": {},
   "outputs": [],
   "source": [
    "fb = open(\"new_books.txt\", \"a\")"
   ]
  },
  {
   "cell_type": "code",
   "execution_count": 33,
   "metadata": {},
   "outputs": [],
   "source": [
    "for line in lista:\n",
    "    if \"the\" in line:\n",
    "        fb.write(line)"
   ]
  },
  {
   "cell_type": "code",
   "execution_count": 34,
   "metadata": {},
   "outputs": [],
   "source": [
    "fb.close()"
   ]
  },
  {
   "cell_type": "code",
   "execution_count": 35,
   "metadata": {},
   "outputs": [],
   "source": [
    "with open(\"data.txt\", \"r\") as fa:\n",
    "    stra = fa.read()"
   ]
  },
  {
   "cell_type": "code",
   "execution_count": 36,
   "metadata": {},
   "outputs": [],
   "source": [
    "lista = stra.splitlines()"
   ]
  },
  {
   "cell_type": "code",
   "execution_count": 37,
   "metadata": {},
   "outputs": [
    {
     "data": {
      "text/plain": [
       "['200 dd hi 34',\n",
       " '850 ft se 65',\n",
       " '278 go xt 54',\n",
       " '408 we cj 39',\n",
       " '651 vt ji 19',\n",
       " '593 wq mi 33',\n",
       " '745 de xl 11']"
      ]
     },
     "execution_count": 37,
     "metadata": {},
     "output_type": "execute_result"
    }
   ],
   "source": [
    "lista"
   ]
  },
  {
   "cell_type": "code",
   "execution_count": 38,
   "metadata": {},
   "outputs": [
    {
     "name": "stdout",
     "output_type": "stream",
     "text": [
      "200 dd hi 34\n",
      "850 ft se 65\n",
      "278 go xt 54\n",
      "408 we cj 39\n",
      "651 vt ji 19\n",
      "593 wq mi 33\n",
      "745 de xl 11\n"
     ]
    }
   ],
   "source": [
    "for line in lista:\n",
    "    print(line)"
   ]
  },
  {
   "cell_type": "code",
   "execution_count": 39,
   "metadata": {},
   "outputs": [
    {
     "name": "stdout",
     "output_type": "stream",
     "text": [
      "['200', 'dd', 'hi', '34']\n",
      "['850', 'ft', 'se', '65']\n",
      "['278', 'go', 'xt', '54']\n",
      "['408', 'we', 'cj', '39']\n",
      "['651', 'vt', 'ji', '19']\n",
      "['593', 'wq', 'mi', '33']\n",
      "['745', 'de', 'xl', '11']\n"
     ]
    }
   ],
   "source": [
    "for line in lista:\n",
    "    temp = line.split()\n",
    "    print(temp)"
   ]
  },
  {
   "cell_type": "code",
   "execution_count": 40,
   "metadata": {},
   "outputs": [
    {
     "name": "stdout",
     "output_type": "stream",
     "text": [
      "dd\n",
      "ft\n",
      "go\n",
      "we\n",
      "vt\n",
      "wq\n",
      "de\n"
     ]
    }
   ],
   "source": [
    "for line in lista:\n",
    "    temp = line.split()\n",
    "    print(temp[1])"
   ]
  },
  {
   "cell_type": "code",
   "execution_count": 41,
   "metadata": {},
   "outputs": [],
   "source": [
    "col = []\n",
    "\n",
    "for line in lista:\n",
    "    temp = line.split()\n",
    "    col.append(temp[1])"
   ]
  },
  {
   "cell_type": "code",
   "execution_count": 42,
   "metadata": {},
   "outputs": [
    {
     "data": {
      "text/plain": [
       "['dd', 'ft', 'go', 'we', 'vt', 'wq', 'de']"
      ]
     },
     "execution_count": 42,
     "metadata": {},
     "output_type": "execute_result"
    }
   ],
   "source": [
    "col"
   ]
  },
  {
   "cell_type": "code",
   "execution_count": 43,
   "metadata": {},
   "outputs": [],
   "source": [
    "col = []\n",
    "\n",
    "for line in lista:\n",
    "    col.append(line.split()[1])"
   ]
  },
  {
   "cell_type": "code",
   "execution_count": 44,
   "metadata": {},
   "outputs": [
    {
     "data": {
      "text/plain": [
       "['dd', 'ft', 'go', 'we', 'vt', 'wq', 'de']"
      ]
     },
     "execution_count": 44,
     "metadata": {},
     "output_type": "execute_result"
    }
   ],
   "source": [
    "col"
   ]
  },
  {
   "cell_type": "code",
   "execution_count": 45,
   "metadata": {},
   "outputs": [],
   "source": [
    "with open(\"data.txt\", \"r\") as fa:\n",
    "    stra = fa.read()\n",
    "\n",
    "lista = stra.splitlines()\n",
    "\n",
    "col = []\n",
    "\n",
    "for line in lista:\n",
    "    col.append(line.split()[1])"
   ]
  },
  {
   "cell_type": "code",
   "execution_count": 46,
   "metadata": {},
   "outputs": [
    {
     "data": {
      "text/plain": [
       "True"
      ]
     },
     "execution_count": 46,
     "metadata": {},
     "output_type": "execute_result"
    }
   ],
   "source": [
    "import os\n",
    "\n",
    "os.path.exists(\"data.txt\")"
   ]
  },
  {
   "cell_type": "code",
   "execution_count": 55,
   "metadata": {},
   "outputs": [],
   "source": [
    "def read_column(file, col):\n",
    "    if os.path.exists(file):\n",
    "        with open(file, \"r\") as fa:\n",
    "            stra = fa.read()\n",
    "\n",
    "        lista = stra.splitlines()\n",
    "\n",
    "        listc = []\n",
    "\n",
    "        for line in lista:\n",
    "            listc.append(line.split()[col])\n",
    "        return listc\n",
    "            \n",
    "    else:\n",
    "        print(\"file not found, returning empt list\")\n",
    "        return []"
   ]
  },
  {
   "cell_type": "code",
   "execution_count": 48,
   "metadata": {},
   "outputs": [
    {
     "data": {
      "text/plain": [
       "['dd', 'ft', 'go', 'we', 'vt', 'wq', 'de']"
      ]
     },
     "execution_count": 48,
     "metadata": {},
     "output_type": "execute_result"
    }
   ],
   "source": [
    "read_column(\"data.txt\", 1)"
   ]
  },
  {
   "cell_type": "code",
   "execution_count": 49,
   "metadata": {},
   "outputs": [],
   "source": [
    "x = read_column(\"data.txt\", 1)"
   ]
  },
  {
   "cell_type": "code",
   "execution_count": 50,
   "metadata": {},
   "outputs": [
    {
     "name": "stdout",
     "output_type": "stream",
     "text": [
      "['dd', 'ft', 'go', 'we', 'vt', 'wq', 'de']\n"
     ]
    }
   ],
   "source": [
    "print(x)"
   ]
  },
  {
   "cell_type": "code",
   "execution_count": 56,
   "metadata": {},
   "outputs": [
    {
     "name": "stdout",
     "output_type": "stream",
     "text": [
      "file not found, returning empt list\n"
     ]
    }
   ],
   "source": [
    "x = read_column(\"dataxxx.txt\", 1)"
   ]
  },
  {
   "cell_type": "code",
   "execution_count": 57,
   "metadata": {},
   "outputs": [
    {
     "name": "stdout",
     "output_type": "stream",
     "text": [
      "[]\n"
     ]
    }
   ],
   "source": [
    "print(x)"
   ]
  },
  {
   "cell_type": "code",
   "execution_count": 58,
   "metadata": {},
   "outputs": [],
   "source": [
    "x = read_column(\"data.txt\", 0)"
   ]
  },
  {
   "cell_type": "code",
   "execution_count": 59,
   "metadata": {},
   "outputs": [
    {
     "name": "stdout",
     "output_type": "stream",
     "text": [
      "['200', '850', '278', '408', '651', '593', '745']\n"
     ]
    }
   ],
   "source": [
    "print(x)"
   ]
  },
  {
   "cell_type": "code",
   "execution_count": 72,
   "metadata": {},
   "outputs": [],
   "source": [
    "class File:\n",
    "    def __init__(self, f):\n",
    "        self.file = f\n",
    "        if not os.path.exists(self.file):\n",
    "            print(\"file not found, defaulting to None\")\n",
    "            print(\"please do not use class methods\")\n",
    "\n",
    "    def read_column(self, col):\n",
    "        with open(self.file, \"r\") as fa: \n",
    "            stra = fa.read()\n",
    "\n",
    "        lista = stra.splitlines()\n",
    "\n",
    "        listc = []\n",
    "\n",
    "        for line in lista:\n",
    "            listc.append(line.split()[col])\n",
    "        return listc\n",
    "    \n",
    "    def read_int_column(self, col):\n",
    "        with open(self.file, \"r\") as fa: \n",
    "            stra = fa.read()\n",
    "        \n",
    "        lista = stra.splitlines()\n",
    "\n",
    "        listc = []\n",
    "\n",
    "        for line in lista:\n",
    "            temp = line.split()\n",
    "            if type(temp[col]) is str:\n",
    "                print(\"type of column non integer, written empty list\")\n",
    "                return []\n",
    "            listc.append(int(temp[col]))\n",
    "        return listc"
   ]
  },
  {
   "cell_type": "code",
   "execution_count": 66,
   "metadata": {},
   "outputs": [],
   "source": [
    "objf = File(\"data.txt\")"
   ]
  },
  {
   "cell_type": "code",
   "execution_count": 67,
   "metadata": {},
   "outputs": [],
   "source": [
    "num = objf.read_int_column(0)"
   ]
  },
  {
   "cell_type": "code",
   "execution_count": 68,
   "metadata": {},
   "outputs": [
    {
     "data": {
      "text/plain": [
       "[200, 850, 278, 408, 651, 593, 745]"
      ]
     },
     "execution_count": 68,
     "metadata": {},
     "output_type": "execute_result"
    }
   ],
   "source": [
    "num"
   ]
  },
  {
   "cell_type": "code",
   "execution_count": 69,
   "metadata": {},
   "outputs": [
    {
     "data": {
      "text/plain": [
       "3725"
      ]
     },
     "execution_count": 69,
     "metadata": {},
     "output_type": "execute_result"
    }
   ],
   "source": [
    "sum(num)"
   ]
  },
  {
   "cell_type": "code",
   "execution_count": 73,
   "metadata": {},
   "outputs": [
    {
     "name": "stdout",
     "output_type": "stream",
     "text": [
      "type of column non integer, written empty list\n"
     ]
    }
   ],
   "source": [
    "objf = File(\"data.txt\")\n",
    "num = objf.read_int_column(1)"
   ]
  },
  {
   "cell_type": "code",
   "execution_count": 74,
   "metadata": {},
   "outputs": [
    {
     "data": {
      "text/plain": [
       "[]"
      ]
     },
     "execution_count": 74,
     "metadata": {},
     "output_type": "execute_result"
    }
   ],
   "source": [
    "num"
   ]
  },
  {
   "cell_type": "code",
   "execution_count": null,
   "metadata": {},
   "outputs": [],
   "source": []
  }
 ],
 "metadata": {
  "kernelspec": {
   "display_name": "Python 3",
   "language": "python",
   "name": "python3"
  },
  "language_info": {
   "codemirror_mode": {
    "name": "ipython",
    "version": 3
   },
   "file_extension": ".py",
   "mimetype": "text/x-python",
   "name": "python",
   "nbconvert_exporter": "python",
   "pygments_lexer": "ipython3",
   "version": "3.7.7"
  }
 },
 "nbformat": 4,
 "nbformat_minor": 4
}

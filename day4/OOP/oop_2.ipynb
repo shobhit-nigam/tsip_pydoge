{
 "cells": [
  {
   "cell_type": "code",
   "execution_count": 1,
   "metadata": {},
   "outputs": [],
   "source": [
    "class unix:\n",
    "    def cmd(self):\n",
    "        print(\"great command line\")\n",
    "    \n",
    "    def secure(self):\n",
    "        print(\"rwx for ugo gives good security\")"
   ]
  },
  {
   "cell_type": "code",
   "execution_count": 2,
   "metadata": {},
   "outputs": [],
   "source": [
    "class linux(unix):\n",
    "    def free(self):\n",
    "        print(\"is a free kernel\")"
   ]
  },
  {
   "cell_type": "code",
   "execution_count": 3,
   "metadata": {},
   "outputs": [],
   "source": [
    "obju = unix()\n",
    "objl = linux()"
   ]
  },
  {
   "cell_type": "code",
   "execution_count": 4,
   "metadata": {},
   "outputs": [
    {
     "name": "stdout",
     "output_type": "stream",
     "text": [
      "is a free kernel\n"
     ]
    }
   ],
   "source": [
    "objl.free()"
   ]
  },
  {
   "cell_type": "code",
   "execution_count": 5,
   "metadata": {},
   "outputs": [
    {
     "name": "stdout",
     "output_type": "stream",
     "text": [
      "great command line\n"
     ]
    }
   ],
   "source": [
    "objl.cmd()"
   ]
  },
  {
   "cell_type": "code",
   "execution_count": 6,
   "metadata": {},
   "outputs": [],
   "source": [
    "class unix:\n",
    "    def cmd(self):\n",
    "        print(\"great command line\")\n",
    "    \n",
    "    def secure(self):\n",
    "        print(\"rwx for ugo gives good security\")\n",
    "        \n",
    "class linux(unix):\n",
    "    def free(self):\n",
    "        print(\"is a free kernel\")\n",
    "        \n",
    "class mobileOS:\n",
    "    def portable(self):\n",
    "        print(\"portable to mini devices\")\n",
    "        \n",
    "class android(linux, mobileOS):\n",
    "    def ui(self):\n",
    "        print(\"great GUI\")"
   ]
  },
  {
   "cell_type": "code",
   "execution_count": 7,
   "metadata": {},
   "outputs": [],
   "source": [
    "obja = android()"
   ]
  },
  {
   "cell_type": "code",
   "execution_count": 8,
   "metadata": {},
   "outputs": [
    {
     "name": "stdout",
     "output_type": "stream",
     "text": [
      "portable to mini devices\n"
     ]
    }
   ],
   "source": [
    "obja.portable()"
   ]
  },
  {
   "cell_type": "code",
   "execution_count": 9,
   "metadata": {},
   "outputs": [],
   "source": [
    "class unix:\n",
    "    def cmd(self):\n",
    "        print(\"great command line\")\n",
    "    \n",
    "    def secure(self):\n",
    "        print(\"rwx for ugo gives good security\")\n",
    "        \n",
    "class linux(unix):\n",
    "    def free(self):\n",
    "        print(\"is a free kernel\")\n",
    "        \n",
    "    def scalable(self):\n",
    "        print(\"scalable to any larger or smaller device\")\n",
    "        \n",
    "class mobileOS:\n",
    "    def portable(self):\n",
    "        print(\"portable to mini devices\")\n",
    "        \n",
    "    def scalable(self):\n",
    "        print(\"designed to be scalable\")\n",
    "        \n",
    "class android(linux, mobileOS):\n",
    "    def ui(self):\n",
    "        print(\"great GUI\")"
   ]
  },
  {
   "cell_type": "code",
   "execution_count": 10,
   "metadata": {},
   "outputs": [],
   "source": [
    "obja = android()"
   ]
  },
  {
   "cell_type": "code",
   "execution_count": 11,
   "metadata": {},
   "outputs": [
    {
     "name": "stdout",
     "output_type": "stream",
     "text": [
      "scalable to any larger or smaller device\n"
     ]
    }
   ],
   "source": [
    "obja.scalable()"
   ]
  },
  {
   "cell_type": "code",
   "execution_count": 14,
   "metadata": {},
   "outputs": [],
   "source": [
    "class unix:\n",
    "    def cmd(self):\n",
    "        print(\"great command line\")\n",
    "    \n",
    "    def secure(self):\n",
    "        print(\"rwx for ugo gives good security\")\n",
    "        \n",
    "class linux(unix):\n",
    "    def free(self):\n",
    "        print(\"is a free kernel\")\n",
    "        \n",
    "    def scalable(self):\n",
    "        print(\"scalable to any larger or smaller device\")\n",
    "        \n",
    "class mobileOS:\n",
    "    def portable(self):\n",
    "        print(\"portable to mini devices\")\n",
    "        \n",
    "    def scalable(self):\n",
    "        print(\"designed to be scalable\")\n",
    "        \n",
    "class android(mobileOS, linux):\n",
    "    def ui(self):\n",
    "        print(\"great GUI\")"
   ]
  },
  {
   "cell_type": "code",
   "execution_count": 15,
   "metadata": {},
   "outputs": [],
   "source": [
    "obja = android()"
   ]
  },
  {
   "cell_type": "code",
   "execution_count": 16,
   "metadata": {},
   "outputs": [
    {
     "name": "stdout",
     "output_type": "stream",
     "text": [
      "designed to be scalable\n"
     ]
    }
   ],
   "source": [
    "obja.scalable()"
   ]
  },
  {
   "cell_type": "code",
   "execution_count": 17,
   "metadata": {},
   "outputs": [],
   "source": [
    "objl = linux()"
   ]
  },
  {
   "cell_type": "code",
   "execution_count": 18,
   "metadata": {},
   "outputs": [
    {
     "name": "stdout",
     "output_type": "stream",
     "text": [
      "scalable to any larger or smaller device\n"
     ]
    }
   ],
   "source": [
    "objl.scalable()"
   ]
  },
  {
   "cell_type": "code",
   "execution_count": 20,
   "metadata": {},
   "outputs": [],
   "source": [
    "class unix:\n",
    "    def cmd(self):\n",
    "        print(\"great command line\")\n",
    "    \n",
    "    def secure(self):\n",
    "        print(\"rwx for ugo gives good security\")\n",
    "        \n",
    "class linux(unix):\n",
    "    def free(self):\n",
    "        print(\"is a free kernel\")\n",
    "        \n",
    "    def scalable(self):\n",
    "        print(\"scalable to any larger or smaller device\")\n",
    "        super().secure()\n",
    "        "
   ]
  },
  {
   "cell_type": "code",
   "execution_count": 21,
   "metadata": {},
   "outputs": [],
   "source": [
    "objl = linux()"
   ]
  },
  {
   "cell_type": "code",
   "execution_count": 22,
   "metadata": {},
   "outputs": [
    {
     "name": "stdout",
     "output_type": "stream",
     "text": [
      "scalable to any larger or smaller device\n",
      "rwx for ugo gives good security\n"
     ]
    }
   ],
   "source": [
    "objl.scalable()"
   ]
  },
  {
   "cell_type": "code",
   "execution_count": 23,
   "metadata": {},
   "outputs": [],
   "source": [
    "class unix:\n",
    "    def cmd(self):\n",
    "        print(\"great command line\")\n",
    "    \n",
    "    def secure(self):\n",
    "        print(\"rwx for ugo gives good security\")\n",
    "        \n",
    "    def openSource(self):\n",
    "        print(\"you get the source code, but you need to buy the OS\")\n",
    "        \n",
    "class linux(unix):\n",
    "    def free(self):\n",
    "        print(\"is a free kernel\")\n",
    "        \n",
    "    def scalable(self):\n",
    "        print(\"scalable to any larger or smaller device\")\n",
    "    \n",
    "    def openSource(self):\n",
    "        print(\"source code available for free on net\")\n"
   ]
  },
  {
   "cell_type": "code",
   "execution_count": 24,
   "metadata": {},
   "outputs": [],
   "source": [
    "obju = unix()\n",
    "objl = linux()"
   ]
  },
  {
   "cell_type": "code",
   "execution_count": 25,
   "metadata": {},
   "outputs": [
    {
     "name": "stdout",
     "output_type": "stream",
     "text": [
      "you get the source code, but you need to buy the OS\n"
     ]
    }
   ],
   "source": [
    "obju.openSource()"
   ]
  },
  {
   "cell_type": "code",
   "execution_count": 26,
   "metadata": {},
   "outputs": [
    {
     "name": "stdout",
     "output_type": "stream",
     "text": [
      "source code available for free on net\n"
     ]
    }
   ],
   "source": [
    "objl.openSource()"
   ]
  },
  {
   "cell_type": "code",
   "execution_count": 27,
   "metadata": {},
   "outputs": [],
   "source": [
    "class unix:\n",
    "    def cmd(self):\n",
    "        print(\"great command line\")\n",
    "    \n",
    "    def secure(self):\n",
    "        print(\"rwx for ugo gives good security\")\n",
    "        \n",
    "    def openSource(self):\n",
    "        print(\"you get the source code, but you need to buy the OS\")\n",
    "        \n",
    "class linux(unix):\n",
    "    def free(self):\n",
    "        print(\"is a free kernel\")\n",
    "        \n",
    "    def scalable(self):\n",
    "        print(\"scalable to any larger or smaller device\")\n",
    "    \n",
    "    def openSource(self):\n",
    "        print(\"source code available for free on net\")\n",
    "        super().openSource()\n",
    "\n"
   ]
  },
  {
   "cell_type": "code",
   "execution_count": 28,
   "metadata": {},
   "outputs": [],
   "source": [
    "obju = unix()\n",
    "objl = linux()"
   ]
  },
  {
   "cell_type": "code",
   "execution_count": 29,
   "metadata": {},
   "outputs": [
    {
     "name": "stdout",
     "output_type": "stream",
     "text": [
      "you get the source code, but you need to buy the OS\n"
     ]
    }
   ],
   "source": [
    "obju.openSource()"
   ]
  },
  {
   "cell_type": "code",
   "execution_count": 30,
   "metadata": {},
   "outputs": [
    {
     "name": "stdout",
     "output_type": "stream",
     "text": [
      "source code available for free on net\n",
      "you get the source code, but you need to buy the OS\n"
     ]
    }
   ],
   "source": [
    "objl.openSource()"
   ]
  },
  {
   "cell_type": "code",
   "execution_count": 33,
   "metadata": {},
   "outputs": [
    {
     "name": "stdout",
     "output_type": "stream",
     "text": [
      "great command line\n"
     ]
    }
   ],
   "source": [
    "unix.cmd(\"hi\")"
   ]
  },
  {
   "cell_type": "code",
   "execution_count": 35,
   "metadata": {},
   "outputs": [],
   "source": [
    "class unix:\n",
    "    def __init__(self):\n",
    "        print(\"init of unix\")\n",
    "        \n",
    "    def cmd(self):\n",
    "        print(\"great command line\")\n",
    "    \n",
    "    def secure(self):\n",
    "        print(\"rwx for ugo gives good security\")\n",
    "        \n",
    "class linux(unix):\n",
    "    def free(self):\n",
    "        print(\"is a free kernel\")\n",
    "\n",
    "#    def __init__(self):\n",
    "#        print(\"init of linux\")"
   ]
  },
  {
   "cell_type": "code",
   "execution_count": 36,
   "metadata": {},
   "outputs": [
    {
     "name": "stdout",
     "output_type": "stream",
     "text": [
      "init of unix\n"
     ]
    }
   ],
   "source": [
    "obju = unix()"
   ]
  },
  {
   "cell_type": "code",
   "execution_count": 37,
   "metadata": {},
   "outputs": [
    {
     "name": "stdout",
     "output_type": "stream",
     "text": [
      "init of unix\n"
     ]
    }
   ],
   "source": [
    "objl = linux()"
   ]
  },
  {
   "cell_type": "code",
   "execution_count": 38,
   "metadata": {},
   "outputs": [
    {
     "name": "stdout",
     "output_type": "stream",
     "text": [
      "init of unix\n"
     ]
    }
   ],
   "source": [
    "obju.__init__()"
   ]
  },
  {
   "cell_type": "code",
   "execution_count": 39,
   "metadata": {},
   "outputs": [],
   "source": [
    "class unix:\n",
    "    def __init__(self):\n",
    "        print(\"init of unix\")\n",
    "        \n",
    "    def cmd(self):\n",
    "        print(\"great command line\")\n",
    "    \n",
    "    def secure(self):\n",
    "        print(\"rwx for ugo gives good security\")\n",
    "        \n",
    "class linux(unix):\n",
    "    def free(self):\n",
    "        print(\"is a free kernel\")\n",
    "\n",
    "    def __init__(self):\n",
    "        print(\"init of linux\")"
   ]
  },
  {
   "cell_type": "code",
   "execution_count": 40,
   "metadata": {},
   "outputs": [
    {
     "name": "stdout",
     "output_type": "stream",
     "text": [
      "init of unix\n"
     ]
    }
   ],
   "source": [
    "obju = unix()"
   ]
  },
  {
   "cell_type": "code",
   "execution_count": 41,
   "metadata": {},
   "outputs": [
    {
     "name": "stdout",
     "output_type": "stream",
     "text": [
      "init of linux\n"
     ]
    }
   ],
   "source": [
    "objl = linux()"
   ]
  },
  {
   "cell_type": "code",
   "execution_count": null,
   "metadata": {},
   "outputs": [],
   "source": []
  }
 ],
 "metadata": {
  "kernelspec": {
   "display_name": "Python 3",
   "language": "python",
   "name": "python3"
  },
  "language_info": {
   "codemirror_mode": {
    "name": "ipython",
    "version": 3
   },
   "file_extension": ".py",
   "mimetype": "text/x-python",
   "name": "python",
   "nbconvert_exporter": "python",
   "pygments_lexer": "ipython3",
   "version": "3.7.7"
  }
 },
 "nbformat": 4,
 "nbformat_minor": 4
}

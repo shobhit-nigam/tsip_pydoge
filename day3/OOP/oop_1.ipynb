{
 "cells": [
  {
   "cell_type": "code",
   "execution_count": 1,
   "metadata": {},
   "outputs": [],
   "source": [
    "class Bank:\n",
    "    cid = 0\n",
    "    name = \"john doe\"\n",
    "    opn_bal = 0\n",
    "    cur_bal = opn_bal"
   ]
  },
  {
   "cell_type": "code",
   "execution_count": 2,
   "metadata": {},
   "outputs": [],
   "source": [
    "obja = Bank()\n",
    "objb = Bank()"
   ]
  },
  {
   "cell_type": "code",
   "execution_count": 3,
   "metadata": {},
   "outputs": [
    {
     "data": {
      "text/plain": [
       "0"
      ]
     },
     "execution_count": 3,
     "metadata": {},
     "output_type": "execute_result"
    }
   ],
   "source": [
    "obja.cid"
   ]
  },
  {
   "cell_type": "code",
   "execution_count": 4,
   "metadata": {},
   "outputs": [],
   "source": [
    "obja.cid = 34008"
   ]
  },
  {
   "cell_type": "code",
   "execution_count": 5,
   "metadata": {},
   "outputs": [
    {
     "data": {
      "text/plain": [
       "34008"
      ]
     },
     "execution_count": 5,
     "metadata": {},
     "output_type": "execute_result"
    }
   ],
   "source": [
    "obja.cid"
   ]
  },
  {
   "cell_type": "code",
   "execution_count": 6,
   "metadata": {},
   "outputs": [
    {
     "data": {
      "text/plain": [
       "0"
      ]
     },
     "execution_count": 6,
     "metadata": {},
     "output_type": "execute_result"
    }
   ],
   "source": [
    "objb.cid"
   ]
  },
  {
   "cell_type": "code",
   "execution_count": 7,
   "metadata": {},
   "outputs": [],
   "source": [
    "class Bank:\n",
    "    cid = 0\n",
    "    name = \"john doe\"\n",
    "    opn_bal = 0\n",
    "    cur_bal = opn_bal\n",
    "    \n",
    "    def update(self, i, n, o, c):\n",
    "        self.cid = c\n",
    "        self.name = n\n",
    "        self.opn_bal = o\n",
    "        self.cur_bal = c\n",
    "        \n",
    "    def display(self):\n",
    "        print(\"welcome\", self.name)\n",
    "        print(\"your account balance is\", self.cur_bal)"
   ]
  },
  {
   "cell_type": "code",
   "execution_count": 8,
   "metadata": {},
   "outputs": [],
   "source": [
    "obja = Bank()\n",
    "objb = Bank()"
   ]
  },
  {
   "cell_type": "code",
   "execution_count": 9,
   "metadata": {},
   "outputs": [],
   "source": [
    "obja.update(34800, \"batman\", 600, 600)\n",
    "\n",
    "# Bank.update(obja, 34800, \"batman\", 600, 600)"
   ]
  },
  {
   "cell_type": "code",
   "execution_count": 10,
   "metadata": {},
   "outputs": [
    {
     "name": "stdout",
     "output_type": "stream",
     "text": [
      "welcome batman\n",
      "your account balance is 600\n"
     ]
    }
   ],
   "source": [
    "obja.display()"
   ]
  },
  {
   "cell_type": "code",
   "execution_count": 11,
   "metadata": {},
   "outputs": [
    {
     "name": "stdout",
     "output_type": "stream",
     "text": [
      "welcome john doe\n",
      "your account balance is 0\n"
     ]
    }
   ],
   "source": [
    "objb.display()"
   ]
  },
  {
   "cell_type": "code",
   "execution_count": 12,
   "metadata": {},
   "outputs": [],
   "source": [
    "class Bank:\n",
    "    cid = 0\n",
    "    name = \"john doe\"\n",
    "    opn_bal = 0\n",
    "    cur_bal = opn_bal\n",
    "    \n",
    "    def update(self, i, n, o, c):\n",
    "        self.cid = c\n",
    "        self.name = n\n",
    "        self.opn_bal = o\n",
    "        self.cur_bal = c\n",
    "        \n",
    "    def display(self):\n",
    "        print(\"welcome\", self.name)\n",
    "        print(\"your account balance is\", self.cur_bal)\n",
    "        \n",
    "    def funcx():\n",
    "        print(\"hello there\")"
   ]
  },
  {
   "cell_type": "code",
   "execution_count": 13,
   "metadata": {},
   "outputs": [],
   "source": [
    "obja = Bank()\n",
    "objb = Bank()"
   ]
  },
  {
   "cell_type": "code",
   "execution_count": 14,
   "metadata": {},
   "outputs": [
    {
     "ename": "TypeError",
     "evalue": "funcx() takes 0 positional arguments but 1 was given",
     "output_type": "error",
     "traceback": [
      "\u001b[0;31m---------------------------------------------------------------------------\u001b[0m",
      "\u001b[0;31mTypeError\u001b[0m                                 Traceback (most recent call last)",
      "\u001b[0;32m<ipython-input-14-92b30a3aa9ec>\u001b[0m in \u001b[0;36m<module>\u001b[0;34m\u001b[0m\n\u001b[0;32m----> 1\u001b[0;31m \u001b[0mobja\u001b[0m\u001b[0;34m.\u001b[0m\u001b[0mfuncx\u001b[0m\u001b[0;34m(\u001b[0m\u001b[0;34m)\u001b[0m\u001b[0;34m\u001b[0m\u001b[0;34m\u001b[0m\u001b[0m\n\u001b[0m\u001b[1;32m      2\u001b[0m \u001b[0;34m\u001b[0m\u001b[0m\n\u001b[1;32m      3\u001b[0m \u001b[0;34m\u001b[0m\u001b[0m\n\u001b[1;32m      4\u001b[0m \u001b[0;31m# Bank.funcx(obja)\u001b[0m\u001b[0;34m\u001b[0m\u001b[0;34m\u001b[0m\u001b[0;34m\u001b[0m\u001b[0m\n",
      "\u001b[0;31mTypeError\u001b[0m: funcx() takes 0 positional arguments but 1 was given"
     ]
    }
   ],
   "source": [
    "obja.funcx()\n",
    "\n",
    "\n",
    "# Bank.funcx(obja)"
   ]
  },
  {
   "cell_type": "code",
   "execution_count": 15,
   "metadata": {},
   "outputs": [
    {
     "name": "stdout",
     "output_type": "stream",
     "text": [
      "hello there\n"
     ]
    }
   ],
   "source": [
    "Bank.funcx()"
   ]
  },
  {
   "cell_type": "code",
   "execution_count": 17,
   "metadata": {},
   "outputs": [],
   "source": [
    "class Bank:\n",
    "    cid = 0\n",
    "    name = \"john doe\"\n",
    "    opn_bal = 0\n",
    "    cur_bal = opn_bal\n",
    "    \n",
    "    def update(self, i, n, o, c):\n",
    "        self.cid = c\n",
    "        self.name = n\n",
    "        self.opn_bal = o\n",
    "        self.cur_bal = c\n",
    "        \n",
    "    def display(self):\n",
    "        print(\"welcome\", self.name)\n",
    "        print(\"your account balance is\", self.cur_bal)\n",
    "        \n",
    "    def funcx(ttt):\n",
    "        print(\"hello there\")\n",
    "        \n",
    "        \n",
    "obja = Bank()\n",
    "objb = Bank()"
   ]
  },
  {
   "cell_type": "code",
   "execution_count": 18,
   "metadata": {},
   "outputs": [
    {
     "name": "stdout",
     "output_type": "stream",
     "text": [
      "hello there\n"
     ]
    }
   ],
   "source": [
    "obja.funcx()"
   ]
  },
  {
   "cell_type": "code",
   "execution_count": 19,
   "metadata": {},
   "outputs": [],
   "source": [
    "class Bank:\n",
    "    cid = 0\n",
    "    name = \"john doe\"\n",
    "    opn_bal = 0\n",
    "    cur_bal = opn_bal\n",
    "    \n",
    "    def update(self, i, n, o, c):\n",
    "        self.cid = c\n",
    "        self.name = n\n",
    "        self.opn_bal = o\n",
    "        self.cur_bal = c\n",
    "        \n",
    "    def display(self):\n",
    "        print(\"welcome\", self.name)\n",
    "        print(\"your account balance is\", self.cur_bal)\n",
    "        \n",
    "    def funcx(ttt):\n",
    "        print(\"hello there\")\n",
    "        ttt.extra = 200\n",
    "        \n",
    "        \n",
    "obja = Bank()\n",
    "objb = Bank()"
   ]
  },
  {
   "cell_type": "code",
   "execution_count": 20,
   "metadata": {},
   "outputs": [
    {
     "name": "stdout",
     "output_type": "stream",
     "text": [
      "hello there\n"
     ]
    }
   ],
   "source": [
    "obja.funcx()"
   ]
  },
  {
   "cell_type": "code",
   "execution_count": 21,
   "metadata": {},
   "outputs": [
    {
     "data": {
      "text/plain": [
       "200"
      ]
     },
     "execution_count": 21,
     "metadata": {},
     "output_type": "execute_result"
    }
   ],
   "source": [
    "obja.extra"
   ]
  },
  {
   "cell_type": "code",
   "execution_count": 22,
   "metadata": {},
   "outputs": [
    {
     "ename": "AttributeError",
     "evalue": "'Bank' object has no attribute 'extra'",
     "output_type": "error",
     "traceback": [
      "\u001b[0;31m---------------------------------------------------------------------------\u001b[0m",
      "\u001b[0;31mAttributeError\u001b[0m                            Traceback (most recent call last)",
      "\u001b[0;32m<ipython-input-22-b38fe2522c96>\u001b[0m in \u001b[0;36m<module>\u001b[0;34m\u001b[0m\n\u001b[0;32m----> 1\u001b[0;31m \u001b[0mobjb\u001b[0m\u001b[0;34m.\u001b[0m\u001b[0mextra\u001b[0m\u001b[0;34m\u001b[0m\u001b[0;34m\u001b[0m\u001b[0m\n\u001b[0m",
      "\u001b[0;31mAttributeError\u001b[0m: 'Bank' object has no attribute 'extra'"
     ]
    }
   ],
   "source": [
    "objb.extra"
   ]
  },
  {
   "cell_type": "code",
   "execution_count": null,
   "metadata": {},
   "outputs": [],
   "source": [
    "class Bank:\n",
    "    cid = 0\n",
    "    name = \"john doe\"\n",
    "    opn_bal = 0\n",
    "    cur_bal = opn_bal\n",
    "    \n",
    "    def __init__(self, i, n, o, c):\n",
    "        self.cid = c\n",
    "        self.name = n\n",
    "        self.opn_bal = o\n",
    "        self.cur_bal = c\n",
    "        \n",
    "    def display(self):\n",
    "        print(\"welcome\", self.name)\n",
    "        print(\"your account balance is\", self.cur_bal)\n",
    "        \n",
    "        \n",
    "obja = Bank()\n",
    "objb = Bank()"
   ]
  },
  {
   "cell_type": "code",
   "execution_count": 23,
   "metadata": {},
   "outputs": [],
   "source": [
    "class sample:\n",
    "    def __init__(self):\n",
    "        print(\"hello\")"
   ]
  },
  {
   "cell_type": "code",
   "execution_count": 24,
   "metadata": {},
   "outputs": [
    {
     "name": "stdout",
     "output_type": "stream",
     "text": [
      "hello\n"
     ]
    }
   ],
   "source": [
    "objs = sample()"
   ]
  },
  {
   "cell_type": "code",
   "execution_count": 28,
   "metadata": {},
   "outputs": [],
   "source": [
    "class Bank:\n",
    "    \n",
    "    def __init__(self, i, n, ob):\n",
    "        self.cid = i\n",
    "        self.name = n\n",
    "        self.opn_bal = ob\n",
    "        self.cur_bal = self.opn_bal\n",
    "        \n",
    "    def display(self):\n",
    "        print(\"welcome\", self.name)\n",
    "        print(\"your account balance is\", self.cur_bal)\n",
    "        \n",
    "        \n",
    "obja = Bank(46800, \"batman\", 600)\n",
    "objb = Bank(46802, \"shaktiman\", 800)"
   ]
  },
  {
   "cell_type": "code",
   "execution_count": 29,
   "metadata": {},
   "outputs": [
    {
     "name": "stdout",
     "output_type": "stream",
     "text": [
      "welcome batman\n",
      "your account balance is 600\n"
     ]
    }
   ],
   "source": [
    "obja.display()"
   ]
  },
  {
   "cell_type": "code",
   "execution_count": 30,
   "metadata": {},
   "outputs": [
    {
     "name": "stdout",
     "output_type": "stream",
     "text": [
      "welcome shaktiman\n",
      "your account balance is 800\n"
     ]
    }
   ],
   "source": [
    "objb.display()"
   ]
  },
  {
   "cell_type": "code",
   "execution_count": 31,
   "metadata": {},
   "outputs": [],
   "source": [
    "class Bank:\n",
    "    \n",
    "    def __init__(self, i, n, ob):\n",
    "        self.cid = i\n",
    "        self.name = n\n",
    "        self.opn_bal = ob\n",
    "        self.cur_bal = self.opn_bal\n",
    "        \n",
    "    def display(self):\n",
    "        print(\"welcome\", self.name)\n",
    "        print(\"your account balance is\", self.cur_bal)\n",
    "        \n",
    "    def deposit(self, amt):\n",
    "        self.cur_bal = self.cur_bal + amt\n",
    "        print(\"deposit successfully\")\n",
    "        \n",
    "    def withdraw(self, amt):\n",
    "        if self.cur_bal < amt:\n",
    "            print(\"do not have sufficient balance\")\n",
    "        else:\n",
    "            print(\"withdrawn successfully\")\n",
    "            self.cur_bal = self.cur_bal - amt"
   ]
  },
  {
   "cell_type": "code",
   "execution_count": 32,
   "metadata": {},
   "outputs": [],
   "source": [
    "obja = Bank(46800, \"batman\", 600)\n",
    "objb = Bank(46802, \"shaktiman\", 800)"
   ]
  },
  {
   "cell_type": "code",
   "execution_count": 33,
   "metadata": {},
   "outputs": [
    {
     "name": "stdout",
     "output_type": "stream",
     "text": [
      "do not have sufficient balance\n"
     ]
    }
   ],
   "source": [
    "objb.withdraw(1000)"
   ]
  },
  {
   "cell_type": "code",
   "execution_count": 34,
   "metadata": {},
   "outputs": [
    {
     "name": "stdout",
     "output_type": "stream",
     "text": [
      "deposit successfully\n"
     ]
    }
   ],
   "source": [
    "objb.deposit(300)"
   ]
  },
  {
   "cell_type": "code",
   "execution_count": 35,
   "metadata": {},
   "outputs": [
    {
     "name": "stdout",
     "output_type": "stream",
     "text": [
      "withdrawn successfully\n"
     ]
    }
   ],
   "source": [
    "objb.withdraw(1000)"
   ]
  },
  {
   "cell_type": "code",
   "execution_count": 36,
   "metadata": {},
   "outputs": [
    {
     "name": "stdout",
     "output_type": "stream",
     "text": [
      "welcome shaktiman\n",
      "your account balance is 100\n"
     ]
    }
   ],
   "source": [
    "objb.display()"
   ]
  },
  {
   "cell_type": "code",
   "execution_count": 37,
   "metadata": {},
   "outputs": [
    {
     "data": {
      "text/plain": [
       "'HELLO'"
      ]
     },
     "execution_count": 37,
     "metadata": {},
     "output_type": "execute_result"
    }
   ],
   "source": [
    "sa = \"hello\"\n",
    "\n",
    "sa.upper()"
   ]
  },
  {
   "cell_type": "code",
   "execution_count": 41,
   "metadata": {},
   "outputs": [],
   "source": [
    "class sample:\n",
    "    data = 11\n",
    "    _datb = 22\n",
    "    __datc = 33\n",
    "    __datd__ = 44\n",
    "    \n",
    "    def display(self):\n",
    "        print(\"data =\", self.data)\n",
    "        print(\"_datb =\", self._datb)\n",
    "        print(\"__datc =\", self.__datc)\n",
    "        print(\"__datd__ =\", self.__datd__)"
   ]
  },
  {
   "cell_type": "code",
   "execution_count": 42,
   "metadata": {},
   "outputs": [],
   "source": [
    "objs = sample()"
   ]
  },
  {
   "cell_type": "code",
   "execution_count": 43,
   "metadata": {},
   "outputs": [
    {
     "name": "stdout",
     "output_type": "stream",
     "text": [
      "data = 11\n",
      "_datb = 22\n"
     ]
    },
    {
     "ename": "AttributeError",
     "evalue": "'sample' object has no attribute '__datc'",
     "output_type": "error",
     "traceback": [
      "\u001b[0;31m---------------------------------------------------------------------------\u001b[0m",
      "\u001b[0;31mAttributeError\u001b[0m                            Traceback (most recent call last)",
      "\u001b[0;32m<ipython-input-43-1a1fe5370bfe>\u001b[0m in \u001b[0;36m<module>\u001b[0;34m\u001b[0m\n\u001b[1;32m      1\u001b[0m \u001b[0mprint\u001b[0m\u001b[0;34m(\u001b[0m\u001b[0;34m\"data =\"\u001b[0m\u001b[0;34m,\u001b[0m \u001b[0mobjs\u001b[0m\u001b[0;34m.\u001b[0m\u001b[0mdata\u001b[0m\u001b[0;34m)\u001b[0m\u001b[0;34m\u001b[0m\u001b[0;34m\u001b[0m\u001b[0m\n\u001b[1;32m      2\u001b[0m \u001b[0mprint\u001b[0m\u001b[0;34m(\u001b[0m\u001b[0;34m\"_datb =\"\u001b[0m\u001b[0;34m,\u001b[0m \u001b[0mobjs\u001b[0m\u001b[0;34m.\u001b[0m\u001b[0m_datb\u001b[0m\u001b[0;34m)\u001b[0m\u001b[0;34m\u001b[0m\u001b[0;34m\u001b[0m\u001b[0m\n\u001b[0;32m----> 3\u001b[0;31m \u001b[0mprint\u001b[0m\u001b[0;34m(\u001b[0m\u001b[0;34m\"__datc =\"\u001b[0m\u001b[0;34m,\u001b[0m \u001b[0mobjs\u001b[0m\u001b[0;34m.\u001b[0m\u001b[0m__datc\u001b[0m\u001b[0;34m)\u001b[0m\u001b[0;34m\u001b[0m\u001b[0;34m\u001b[0m\u001b[0m\n\u001b[0m\u001b[1;32m      4\u001b[0m \u001b[0mprint\u001b[0m\u001b[0;34m(\u001b[0m\u001b[0;34m\"__datd__ =\"\u001b[0m\u001b[0;34m,\u001b[0m \u001b[0mobjs\u001b[0m\u001b[0;34m.\u001b[0m\u001b[0m__datd__\u001b[0m\u001b[0;34m)\u001b[0m\u001b[0;34m\u001b[0m\u001b[0;34m\u001b[0m\u001b[0m\n",
      "\u001b[0;31mAttributeError\u001b[0m: 'sample' object has no attribute '__datc'"
     ]
    }
   ],
   "source": [
    "print(\"data =\", objs.data)\n",
    "print(\"_datb =\", objs._datb)\n",
    "print(\"__datc =\", objs.__datc)\n",
    "print(\"__datd__ =\", objs.__datd__)"
   ]
  },
  {
   "cell_type": "code",
   "execution_count": 44,
   "metadata": {},
   "outputs": [
    {
     "name": "stdout",
     "output_type": "stream",
     "text": [
      "__datd__ = 44\n"
     ]
    }
   ],
   "source": [
    "print(\"__datd__ =\", objs.__datd__)"
   ]
  },
  {
   "cell_type": "code",
   "execution_count": 45,
   "metadata": {},
   "outputs": [
    {
     "name": "stdout",
     "output_type": "stream",
     "text": [
      "data = 11\n",
      "_datb = 22\n",
      "__datc = 33\n",
      "__datd__ = 44\n"
     ]
    }
   ],
   "source": [
    "objs.display()"
   ]
  },
  {
   "cell_type": "code",
   "execution_count": 48,
   "metadata": {},
   "outputs": [],
   "source": [
    "class sample:\n",
    "    data = 11\n",
    "    _datb = 22\n",
    "    __datc = 33\n",
    "    __datd__ = 44\n",
    "    \n",
    "    def display(self):\n",
    "        print(\"data =\", self.data)\n",
    "        print(\"_datb =\", self._datb)\n",
    "        print(\"__datc =\", self.__datc)\n",
    "        print(\"__datd__ =\", self.__datd__)\n",
    "        self.__func()\n",
    "        \n",
    "    def __func(self):\n",
    "        print(\"hey\")"
   ]
  },
  {
   "cell_type": "code",
   "execution_count": 49,
   "metadata": {},
   "outputs": [],
   "source": [
    "objs = sample()"
   ]
  },
  {
   "cell_type": "code",
   "execution_count": 50,
   "metadata": {},
   "outputs": [
    {
     "ename": "AttributeError",
     "evalue": "'sample' object has no attribute '__func'",
     "output_type": "error",
     "traceback": [
      "\u001b[0;31m---------------------------------------------------------------------------\u001b[0m",
      "\u001b[0;31mAttributeError\u001b[0m                            Traceback (most recent call last)",
      "\u001b[0;32m<ipython-input-50-f691cff151f2>\u001b[0m in \u001b[0;36m<module>\u001b[0;34m\u001b[0m\n\u001b[0;32m----> 1\u001b[0;31m \u001b[0mobjs\u001b[0m\u001b[0;34m.\u001b[0m\u001b[0m__func\u001b[0m\u001b[0;34m(\u001b[0m\u001b[0;34m)\u001b[0m\u001b[0;34m\u001b[0m\u001b[0;34m\u001b[0m\u001b[0m\n\u001b[0m",
      "\u001b[0;31mAttributeError\u001b[0m: 'sample' object has no attribute '__func'"
     ]
    }
   ],
   "source": [
    "objs.__func()"
   ]
  },
  {
   "cell_type": "code",
   "execution_count": 51,
   "metadata": {},
   "outputs": [
    {
     "name": "stdout",
     "output_type": "stream",
     "text": [
      "data = 11\n",
      "_datb = 22\n",
      "__datc = 33\n",
      "__datd__ = 44\n",
      "hey\n"
     ]
    }
   ],
   "source": [
    "objs.display()"
   ]
  },
  {
   "cell_type": "code",
   "execution_count": 52,
   "metadata": {},
   "outputs": [],
   "source": [
    "class Bank:\n",
    "    \n",
    "    def __init__(self, i, n, ob):\n",
    "        self.cid = i\n",
    "        self.name = n\n",
    "        self.opn_bal = ob\n",
    "        self.cur_bal = self.opn_bal\n",
    "        \n",
    "    def display(self):\n",
    "        print(\"welcome\", self.name)\n",
    "        print(\"your account balance is\", self.cur_bal)\n",
    "        \n",
    "    def deposit(self, amt):\n",
    "        self.cur_bal = self.cur_bal + amt\n",
    "        print(\"deposit successfully\")\n",
    "        \n",
    "    def withdraw(self, amt):\n",
    "        if self.cur_bal < amt:\n",
    "            print(\"do not have sufficient balance\")\n",
    "        else:\n",
    "            print(\"withdrawn successfully\")\n",
    "            self.cur_bal = self.cur_bal - amt"
   ]
  },
  {
   "cell_type": "code",
   "execution_count": 53,
   "metadata": {},
   "outputs": [],
   "source": [
    "obja = Bank(46800, \"batman\", 600)"
   ]
  },
  {
   "cell_type": "code",
   "execution_count": 54,
   "metadata": {},
   "outputs": [],
   "source": [
    "# called init, values update\n",
    "# job of init is done, wont be called again automatically for this onject"
   ]
  },
  {
   "cell_type": "code",
   "execution_count": 55,
   "metadata": {},
   "outputs": [
    {
     "name": "stdout",
     "output_type": "stream",
     "text": [
      "welcome batman\n",
      "your account balance is 600\n"
     ]
    }
   ],
   "source": [
    "obja.display()"
   ]
  },
  {
   "cell_type": "code",
   "execution_count": 56,
   "metadata": {},
   "outputs": [
    {
     "name": "stdout",
     "output_type": "stream",
     "text": [
      "deposit successfully\n"
     ]
    }
   ],
   "source": [
    "obja.deposit(1000)"
   ]
  },
  {
   "cell_type": "code",
   "execution_count": 57,
   "metadata": {},
   "outputs": [
    {
     "name": "stdout",
     "output_type": "stream",
     "text": [
      "welcome batman\n",
      "your account balance is 1600\n"
     ]
    }
   ],
   "source": [
    "obja.display()"
   ]
  },
  {
   "cell_type": "code",
   "execution_count": null,
   "metadata": {},
   "outputs": [],
   "source": []
  }
 ],
 "metadata": {
  "kernelspec": {
   "display_name": "Python 3",
   "language": "python",
   "name": "python3"
  },
  "language_info": {
   "codemirror_mode": {
    "name": "ipython",
    "version": 3
   },
   "file_extension": ".py",
   "mimetype": "text/x-python",
   "name": "python",
   "nbconvert_exporter": "python",
   "pygments_lexer": "ipython3",
   "version": "3.7.7"
  }
 },
 "nbformat": 4,
 "nbformat_minor": 4
}

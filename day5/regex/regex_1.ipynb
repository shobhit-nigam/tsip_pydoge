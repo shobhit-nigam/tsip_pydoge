{
 "cells": [
  {
   "cell_type": "code",
   "execution_count": 1,
   "metadata": {},
   "outputs": [],
   "source": [
    "import re"
   ]
  },
  {
   "cell_type": "code",
   "execution_count": 3,
   "metadata": {},
   "outputs": [
    {
     "name": "stdout",
     "output_type": "stream",
     "text": [
      "hell\n",
      "match found\n"
     ]
    }
   ],
   "source": [
    "stra = input()\n",
    "pat = \"^h..l$\"\n",
    "\n",
    "res = re.match(pat, stra)\n",
    "\n",
    "if res:\n",
    "    print(\"match found\")\n",
    "else:\n",
    "    print(\"match not found\")"
   ]
  },
  {
   "cell_type": "code",
   "execution_count": 7,
   "metadata": {},
   "outputs": [
    {
     "name": "stdout",
     "output_type": "stream",
     "text": [
      "heel\n",
      "match found\n"
     ]
    }
   ],
   "source": [
    "stra = input()\n",
    "pat = \"^h..l$\"\n",
    "\n",
    "res = re.match(pat, stra)\n",
    "\n",
    "if res:\n",
    "    print(\"match found\")\n",
    "else:\n",
    "    print(\"match not found\")"
   ]
  },
  {
   "cell_type": "code",
   "execution_count": 8,
   "metadata": {},
   "outputs": [
    {
     "name": "stdout",
     "output_type": "stream",
     "text": [
      "^h..l$\n",
      "match found\n"
     ]
    }
   ],
   "source": [
    "stra = input()\n",
    "pat = \"\\^h\\.\\.l\\$\"\n",
    "\n",
    "res = re.match(pat, stra)\n",
    "\n",
    "if res:\n",
    "    print(\"match found\")\n",
    "else:\n",
    "    print(\"match not found\")"
   ]
  },
  {
   "cell_type": "code",
   "execution_count": 10,
   "metadata": {},
   "outputs": [
    {
     "name": "stdout",
     "output_type": "stream",
     "text": [
      "go 1\n",
      "match found\n"
     ]
    }
   ],
   "source": [
    "stra = input()\n",
    "pat = \"[a-z][aeiou][ ][0-9]\"\n",
    "\n",
    "res = re.match(pat, stra)\n",
    "\n",
    "if res:\n",
    "    print(\"match found\")\n",
    "else:\n",
    "    print(\"match not found\")"
   ]
  },
  {
   "cell_type": "code",
   "execution_count": 11,
   "metadata": {},
   "outputs": [
    {
     "name": "stdout",
     "output_type": "stream",
     "text": [
      "bingo 1\n",
      "match found\n"
     ]
    }
   ],
   "source": [
    "stra = input()\n",
    "pat = \"[a-z][aeiou][ ][0-9]\"\n",
    "\n",
    "res = re.findall(pat, stra)\n",
    "\n",
    "if res:\n",
    "    print(\"match found\")\n",
    "else:\n",
    "    print(\"match not found\")"
   ]
  },
  {
   "cell_type": "code",
   "execution_count": 12,
   "metadata": {},
   "outputs": [
    {
     "name": "stdout",
     "output_type": "stream",
     "text": [
      "['2', '3', '5', '4', '3', '7', '5', '6', '8', '6', '7', '6', '4', '3', '7', '8', '8', '4', '2']\n"
     ]
    }
   ],
   "source": [
    "with open(\"data.txt\", \"r\") as fa:\n",
    "    stra = fa.read()\n",
    "    \n",
    "pat = \"\\d\"\n",
    "\n",
    "res = re.findall(pat, stra)\n",
    "\n",
    "print(res)"
   ]
  },
  {
   "cell_type": "code",
   "execution_count": 13,
   "metadata": {},
   "outputs": [
    {
     "name": "stdout",
     "output_type": "stream",
     "text": [
      "['235', '437', '5686', '7643', '78', '842']\n"
     ]
    }
   ],
   "source": [
    "with open(\"data.txt\", \"r\") as fa:\n",
    "    stra = fa.read()\n",
    "    \n",
    "pat = \"\\d+\"\n",
    "\n",
    "res = re.findall(pat, stra)\n",
    "\n",
    "print(res)"
   ]
  },
  {
   "cell_type": "code",
   "execution_count": 14,
   "metadata": {},
   "outputs": [
    {
     "name": "stdout",
     "output_type": "stream",
     "text": [
      "['235', '437', '5686', '7643', '842']\n"
     ]
    }
   ],
   "source": [
    "with open(\"data.txt\", \"r\") as fa:\n",
    "    stra = fa.read()\n",
    "    \n",
    "pat = \"\\d{3,4}\"\n",
    "\n",
    "res = re.findall(pat, stra)\n",
    "\n",
    "print(res)"
   ]
  },
  {
   "cell_type": "code",
   "execution_count": 15,
   "metadata": {},
   "outputs": [
    {
     "name": "stdout",
     "output_type": "stream",
     "text": [
      "['ironman:suit', 'hulk:smash', 'panther:vibranium', 'captain:suit']\n"
     ]
    }
   ],
   "source": [
    "with open(\"avengers.txt\", \"r\") as fa:\n",
    "    stra = fa.read()\n",
    "    \n",
    "pat = \"-\"\n",
    "\n",
    "res = re.split(pat, stra)\n",
    "\n",
    "print(res)"
   ]
  },
  {
   "cell_type": "code",
   "execution_count": 16,
   "metadata": {},
   "outputs": [
    {
     "name": "stdout",
     "output_type": "stream",
     "text": [
      "['ironman:suit', 'hulk:smash', 'panther:vibranium-captain:suit']\n"
     ]
    }
   ],
   "source": [
    "with open(\"avengers.txt\", \"r\") as fa:\n",
    "    stra = fa.read()\n",
    "    \n",
    "pat = \"-\"\n",
    "\n",
    "res = re.split(pat, stra, 2)\n",
    "\n",
    "print(res)"
   ]
  },
  {
   "cell_type": "code",
   "execution_count": 18,
   "metadata": {},
   "outputs": [
    {
     "name": "stdout",
     "output_type": "stream",
     "text": [
      "atlantic ## artic ##\n",
      "indian ## \n",
      "pacific ##          panasian ##\n",
      "oceanic     ##\n",
      "\n"
     ]
    }
   ],
   "source": [
    "with open(\"data.txt\", \"r\") as fa:\n",
    "    stra = fa.read()\n",
    "    \n",
    "pat = \"\\d+\"\n",
    "rep = \"##\"\n",
    "\n",
    "res = re.sub(pat, rep, stra)\n",
    "\n",
    "print(res)"
   ]
  },
  {
   "cell_type": "code",
   "execution_count": 19,
   "metadata": {},
   "outputs": [
    {
     "name": "stdout",
     "output_type": "stream",
     "text": [
      "atlantic_235_artic_437_indian_5686__pacific_7643__________panasian_78_oceanic_____842_\n"
     ]
    }
   ],
   "source": [
    "with open(\"data.txt\", \"r\") as fa:\n",
    "    stra = fa.read()\n",
    "    \n",
    "pat = \"\\s\"\n",
    "rep = \"_\"\n",
    "\n",
    "res = re.sub(pat, rep, stra)\n",
    "\n",
    "print(res)"
   ]
  },
  {
   "cell_type": "code",
   "execution_count": 20,
   "metadata": {},
   "outputs": [
    {
     "name": "stdout",
     "output_type": "stream",
     "text": [
      "atlantic_235_artic_437_indian_5686_pacific_7643_panasian_78_oceanic_842_\n"
     ]
    }
   ],
   "source": [
    "with open(\"data.txt\", \"r\") as fa:\n",
    "    stra = fa.read()\n",
    "    \n",
    "pat = \"\\s+\"\n",
    "rep = \"_\"\n",
    "\n",
    "res = re.sub(pat, rep, stra)\n",
    "\n",
    "print(res)"
   ]
  },
  {
   "cell_type": "code",
   "execution_count": 21,
   "metadata": {},
   "outputs": [
    {
     "name": "stdout",
     "output_type": "stream",
     "text": [
      "atlantic_235_artic_437_indian 5686 \n",
      "pacific 7643          panasian 78\n",
      "oceanic     842\n",
      "\n"
     ]
    }
   ],
   "source": [
    "with open(\"data.txt\", \"r\") as fa:\n",
    "    stra = fa.read()\n",
    "    \n",
    "pat = \"\\s+\"\n",
    "rep = \"_\"\n",
    "\n",
    "res = re.sub(pat, rep, stra, 4)\n",
    "\n",
    "print(res)"
   ]
  },
  {
   "cell_type": "code",
   "execution_count": 23,
   "metadata": {},
   "outputs": [
    {
     "name": "stdout",
     "output_type": "stream",
     "text": [
      "('atlantic ## artic ##\\nindian ## \\npacific ##          panasian ##\\noceanic     ##\\n', 6)\n"
     ]
    }
   ],
   "source": [
    "with open(\"data.txt\", \"r\") as fa:\n",
    "    stra = fa.read()\n",
    "    \n",
    "pat = \"\\d+\"\n",
    "rep = \"##\"\n",
    "\n",
    "res = re.subn(pat, rep, stra)\n",
    "\n",
    "print(res)"
   ]
  },
  {
   "cell_type": "code",
   "execution_count": 25,
   "metadata": {},
   "outputs": [
    {
     "name": "stdout",
     "output_type": "stream",
     "text": [
      "['45 6789']\n"
     ]
    }
   ],
   "source": [
    "stra = \"45 6789, 2 6789, 98 129\"\n",
    "    \n",
    "pat = \"(\\d{2} \\d{4})\"\n",
    "\n",
    "res = re.findall(pat, stra)\n",
    "\n",
    "print(res)"
   ]
  },
  {
   "cell_type": "code",
   "execution_count": 26,
   "metadata": {},
   "outputs": [
    {
     "name": "stdout",
     "output_type": "stream",
     "text": [
      "['hell', 'hell']\n"
     ]
    }
   ],
   "source": [
    "stra = \"Hello says hello to hell and HELL\"\n",
    "    \n",
    "pat = \"hell\"\n",
    "\n",
    "res = re.findall(pat, stra)\n",
    "\n",
    "print(res)"
   ]
  },
  {
   "cell_type": "code",
   "execution_count": 27,
   "metadata": {},
   "outputs": [
    {
     "name": "stdout",
     "output_type": "stream",
     "text": [
      "['Hell', 'hell', 'hell', 'HELL']\n"
     ]
    }
   ],
   "source": [
    "stra = \"Hello says hello to hell and HELL\"\n",
    "    \n",
    "pat = \"hell\"\n",
    "\n",
    "res = re.findall(pat, stra, re.IGNORECASE)\n",
    "\n",
    "print(res)"
   ]
  },
  {
   "cell_type": "code",
   "execution_count": null,
   "metadata": {},
   "outputs": [],
   "source": []
  }
 ],
 "metadata": {
  "kernelspec": {
   "display_name": "Python 3",
   "language": "python",
   "name": "python3"
  },
  "language_info": {
   "codemirror_mode": {
    "name": "ipython",
    "version": 3
   },
   "file_extension": ".py",
   "mimetype": "text/x-python",
   "name": "python",
   "nbconvert_exporter": "python",
   "pygments_lexer": "ipython3",
   "version": "3.7.7"
  }
 },
 "nbformat": 4,
 "nbformat_minor": 4
}

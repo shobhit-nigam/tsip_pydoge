{
 "cells": [
  {
   "cell_type": "code",
   "execution_count": 1,
   "metadata": {},
   "outputs": [],
   "source": [
    "class AppException(Exception):\n",
    "    # some code\n",
    "    pass"
   ]
  },
  {
   "cell_type": "code",
   "execution_count": 2,
   "metadata": {},
   "outputs": [],
   "source": [
    "class SmallValueError(AppException):\n",
    "    \"\"\"value is too small\"\"\"\n",
    "    \n",
    "class LargeValueError(AppException):\n",
    "    \"\"\"value is too large\"\"\""
   ]
  },
  {
   "cell_type": "code",
   "execution_count": 4,
   "metadata": {},
   "outputs": [],
   "source": [
    "num = 25"
   ]
  },
  {
   "cell_type": "code",
   "execution_count": 5,
   "metadata": {},
   "outputs": [
    {
     "name": "stdout",
     "output_type": "stream",
     "text": [
      "enter the number:\n",
      "100\n",
      "value is too large\n",
      "try again\n",
      "enter the number:\n",
      "50\n",
      "value is too large\n",
      "try again\n",
      "enter the number:\n",
      "10\n",
      "value is too small\n",
      "try again\n",
      "enter the number:\n",
      "25\n",
      "you guessed it right\n"
     ]
    }
   ],
   "source": [
    "while True:\n",
    "    try:\n",
    "        val = int(input(\"enter the number:\\n\"))\n",
    "        if val < num:\n",
    "            raise SmallValueError\n",
    "        elif val > num:\n",
    "            raise LargeValueError\n",
    "        else:\n",
    "            print(\"you guessed it right\")\n",
    "            break\n",
    "            \n",
    "    except SmallValueError:\n",
    "        print(SmallValueError.__doc__)\n",
    "        print(\"try again\")\n",
    "    except LargeValueError:\n",
    "        print(LargeValueError.__doc__)\n",
    "        print(\"try again\")"
   ]
  },
  {
   "cell_type": "code",
   "execution_count": null,
   "metadata": {},
   "outputs": [],
   "source": []
  }
 ],
 "metadata": {
  "kernelspec": {
   "display_name": "Python 3",
   "language": "python",
   "name": "python3"
  },
  "language_info": {
   "codemirror_mode": {
    "name": "ipython",
    "version": 3
   },
   "file_extension": ".py",
   "mimetype": "text/x-python",
   "name": "python",
   "nbconvert_exporter": "python",
   "pygments_lexer": "ipython3",
   "version": "3.7.7"
  }
 },
 "nbformat": 4,
 "nbformat_minor": 4
}

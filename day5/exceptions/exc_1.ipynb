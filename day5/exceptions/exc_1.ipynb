{
 "cells": [
  {
   "cell_type": "code",
   "execution_count": 1,
   "metadata": {},
   "outputs": [
    {
     "name": "stdout",
     "output_type": "stream",
     "text": [
      "3\n",
      "val = tt\n"
     ]
    }
   ],
   "source": [
    "lista = ['aa', 'gg', 'ee', 'tt', 'rr', 'dd']\n",
    "\n",
    "i = int(input())\n",
    "\n",
    "print(\"val =\", lista[i])"
   ]
  },
  {
   "cell_type": "code",
   "execution_count": 2,
   "metadata": {},
   "outputs": [
    {
     "name": "stdout",
     "output_type": "stream",
     "text": [
      "11\n"
     ]
    },
    {
     "ename": "IndexError",
     "evalue": "list index out of range",
     "output_type": "error",
     "traceback": [
      "\u001b[0;31m---------------------------------------------------------------------------\u001b[0m",
      "\u001b[0;31mIndexError\u001b[0m                                Traceback (most recent call last)",
      "\u001b[0;32m<ipython-input-2-1525d48e5456>\u001b[0m in \u001b[0;36m<module>\u001b[0;34m\u001b[0m\n\u001b[1;32m      3\u001b[0m \u001b[0mi\u001b[0m \u001b[0;34m=\u001b[0m \u001b[0mint\u001b[0m\u001b[0;34m(\u001b[0m\u001b[0minput\u001b[0m\u001b[0;34m(\u001b[0m\u001b[0;34m)\u001b[0m\u001b[0;34m)\u001b[0m\u001b[0;34m\u001b[0m\u001b[0;34m\u001b[0m\u001b[0m\n\u001b[1;32m      4\u001b[0m \u001b[0;34m\u001b[0m\u001b[0m\n\u001b[0;32m----> 5\u001b[0;31m \u001b[0mprint\u001b[0m\u001b[0;34m(\u001b[0m\u001b[0;34m\"val =\"\u001b[0m\u001b[0;34m,\u001b[0m \u001b[0mlista\u001b[0m\u001b[0;34m[\u001b[0m\u001b[0mi\u001b[0m\u001b[0;34m]\u001b[0m\u001b[0;34m)\u001b[0m\u001b[0;34m\u001b[0m\u001b[0;34m\u001b[0m\u001b[0m\n\u001b[0m",
      "\u001b[0;31mIndexError\u001b[0m: list index out of range"
     ]
    }
   ],
   "source": [
    "lista = ['aa', 'gg', 'ee', 'tt', 'rr', 'dd']\n",
    "\n",
    "i = int(input())\n",
    "\n",
    "print(\"val =\", lista[i])"
   ]
  },
  {
   "cell_type": "code",
   "execution_count": 4,
   "metadata": {},
   "outputs": [
    {
     "name": "stdout",
     "output_type": "stream",
     "text": [
      "3\n",
      "val = tt\n",
      "code continues\n"
     ]
    }
   ],
   "source": [
    "lista = ['aa', 'gg', 'ee', 'tt', 'rr', 'dd']\n",
    "try:\n",
    "    i = int(input())\n",
    "\n",
    "    print(\"val =\", lista[i])\n",
    "except IndexError:\n",
    "    print(\"your indes should have been within\", len(lista)-1)\n",
    "    print(\"defaulting to zero\")\n",
    "    i = 0\n",
    "    \n",
    "print(\"code continues\")"
   ]
  },
  {
   "cell_type": "code",
   "execution_count": 5,
   "metadata": {},
   "outputs": [
    {
     "name": "stdout",
     "output_type": "stream",
     "text": [
      "11\n",
      "your indes should have been within 5\n",
      "defaulting to zero\n",
      "code continues\n"
     ]
    }
   ],
   "source": [
    "lista = ['aa', 'gg', 'ee', 'tt', 'rr', 'dd']\n",
    "try:\n",
    "    i = int(input())\n",
    "\n",
    "    print(\"val =\", lista[i])\n",
    "except IndexError:\n",
    "    print(\"your indes should have been within\", len(lista)-1)\n",
    "    print(\"defaulting to zero\")\n",
    "    i = 0\n",
    "    \n",
    "print(\"code continues\")"
   ]
  },
  {
   "cell_type": "code",
   "execution_count": 6,
   "metadata": {},
   "outputs": [
    {
     "name": "stdout",
     "output_type": "stream",
     "text": [
      "hello\n"
     ]
    },
    {
     "ename": "ValueError",
     "evalue": "invalid literal for int() with base 10: 'hello'",
     "output_type": "error",
     "traceback": [
      "\u001b[0;31m---------------------------------------------------------------------------\u001b[0m",
      "\u001b[0;31mValueError\u001b[0m                                Traceback (most recent call last)",
      "\u001b[0;32m<ipython-input-6-0656e8489d2f>\u001b[0m in \u001b[0;36m<module>\u001b[0;34m\u001b[0m\n\u001b[1;32m      1\u001b[0m \u001b[0mlista\u001b[0m \u001b[0;34m=\u001b[0m \u001b[0;34m[\u001b[0m\u001b[0;34m'aa'\u001b[0m\u001b[0;34m,\u001b[0m \u001b[0;34m'gg'\u001b[0m\u001b[0;34m,\u001b[0m \u001b[0;34m'ee'\u001b[0m\u001b[0;34m,\u001b[0m \u001b[0;34m'tt'\u001b[0m\u001b[0;34m,\u001b[0m \u001b[0;34m'rr'\u001b[0m\u001b[0;34m,\u001b[0m \u001b[0;34m'dd'\u001b[0m\u001b[0;34m]\u001b[0m\u001b[0;34m\u001b[0m\u001b[0;34m\u001b[0m\u001b[0m\n\u001b[1;32m      2\u001b[0m \u001b[0;32mtry\u001b[0m\u001b[0;34m:\u001b[0m\u001b[0;34m\u001b[0m\u001b[0;34m\u001b[0m\u001b[0m\n\u001b[0;32m----> 3\u001b[0;31m     \u001b[0mi\u001b[0m \u001b[0;34m=\u001b[0m \u001b[0mint\u001b[0m\u001b[0;34m(\u001b[0m\u001b[0minput\u001b[0m\u001b[0;34m(\u001b[0m\u001b[0;34m)\u001b[0m\u001b[0;34m)\u001b[0m\u001b[0;34m\u001b[0m\u001b[0;34m\u001b[0m\u001b[0m\n\u001b[0m\u001b[1;32m      4\u001b[0m \u001b[0;34m\u001b[0m\u001b[0m\n\u001b[1;32m      5\u001b[0m     \u001b[0mprint\u001b[0m\u001b[0;34m(\u001b[0m\u001b[0;34m\"val =\"\u001b[0m\u001b[0;34m,\u001b[0m \u001b[0mlista\u001b[0m\u001b[0;34m[\u001b[0m\u001b[0mi\u001b[0m\u001b[0;34m]\u001b[0m\u001b[0;34m)\u001b[0m\u001b[0;34m\u001b[0m\u001b[0;34m\u001b[0m\u001b[0m\n",
      "\u001b[0;31mValueError\u001b[0m: invalid literal for int() with base 10: 'hello'"
     ]
    }
   ],
   "source": [
    "lista = ['aa', 'gg', 'ee', 'tt', 'rr', 'dd']\n",
    "try:\n",
    "    i = int(input())\n",
    "\n",
    "    print(\"val =\", lista[i])\n",
    "except IndexError:\n",
    "    print(\"your indes should have been within\", len(lista)-1)\n",
    "    print(\"defaulting to zero\")\n",
    "    i = 0\n",
    "    \n",
    "print(\"code continues\")"
   ]
  },
  {
   "cell_type": "code",
   "execution_count": 7,
   "metadata": {},
   "outputs": [
    {
     "name": "stdout",
     "output_type": "stream",
     "text": [
      "3\n"
     ]
    },
    {
     "ename": "NameError",
     "evalue": "name 'listb' is not defined",
     "output_type": "error",
     "traceback": [
      "\u001b[0;31m---------------------------------------------------------------------------\u001b[0m",
      "\u001b[0;31mNameError\u001b[0m                                 Traceback (most recent call last)",
      "\u001b[0;32m<ipython-input-7-fdb1d398126a>\u001b[0m in \u001b[0;36m<module>\u001b[0;34m\u001b[0m\n\u001b[1;32m      3\u001b[0m     \u001b[0mi\u001b[0m \u001b[0;34m=\u001b[0m \u001b[0mint\u001b[0m\u001b[0;34m(\u001b[0m\u001b[0minput\u001b[0m\u001b[0;34m(\u001b[0m\u001b[0;34m)\u001b[0m\u001b[0;34m)\u001b[0m\u001b[0;34m\u001b[0m\u001b[0;34m\u001b[0m\u001b[0m\n\u001b[1;32m      4\u001b[0m \u001b[0;34m\u001b[0m\u001b[0m\n\u001b[0;32m----> 5\u001b[0;31m     \u001b[0mprint\u001b[0m\u001b[0;34m(\u001b[0m\u001b[0;34m\"val =\"\u001b[0m\u001b[0;34m,\u001b[0m \u001b[0mlistb\u001b[0m\u001b[0;34m[\u001b[0m\u001b[0mi\u001b[0m\u001b[0;34m]\u001b[0m\u001b[0;34m)\u001b[0m\u001b[0;34m\u001b[0m\u001b[0;34m\u001b[0m\u001b[0m\n\u001b[0m\u001b[1;32m      6\u001b[0m \u001b[0;32mexcept\u001b[0m \u001b[0mIndexError\u001b[0m\u001b[0;34m:\u001b[0m\u001b[0;34m\u001b[0m\u001b[0;34m\u001b[0m\u001b[0m\n\u001b[1;32m      7\u001b[0m     \u001b[0mprint\u001b[0m\u001b[0;34m(\u001b[0m\u001b[0;34m\"your indes should have been within\"\u001b[0m\u001b[0;34m,\u001b[0m \u001b[0mlen\u001b[0m\u001b[0;34m(\u001b[0m\u001b[0mlista\u001b[0m\u001b[0;34m)\u001b[0m\u001b[0;34m-\u001b[0m\u001b[0;36m1\u001b[0m\u001b[0;34m)\u001b[0m\u001b[0;34m\u001b[0m\u001b[0;34m\u001b[0m\u001b[0m\n",
      "\u001b[0;31mNameError\u001b[0m: name 'listb' is not defined"
     ]
    }
   ],
   "source": [
    "lista = ['aa', 'gg', 'ee', 'tt', 'rr', 'dd']\n",
    "try:\n",
    "    i = int(input())\n",
    "\n",
    "    print(\"val =\", listb[i])\n",
    "except IndexError:\n",
    "    print(\"your indes should have been within\", len(lista)-1)\n",
    "    print(\"defaulting to zero\")\n",
    "    i = 0\n",
    "    \n",
    "print(\"code continues\")"
   ]
  },
  {
   "cell_type": "code",
   "execution_count": 8,
   "metadata": {},
   "outputs": [
    {
     "name": "stdout",
     "output_type": "stream",
     "text": [
      "3\n",
      "please check again, there may be a typo\n"
     ]
    }
   ],
   "source": [
    "lista = ['aa', 'gg', 'ee', 'tt', 'rr', 'dd']\n",
    "try:\n",
    "    i = int(input())\n",
    "\n",
    "    print(\"val =\", listb[i])\n",
    "except IndexError:\n",
    "    print(\"your indes should have been within\", len(lista)-1)\n",
    "    print(\"defaulting to zero\")\n",
    "    i = 0\n",
    "except NameError:\n",
    "    print(\"please check again, there may be a typo\")\n",
    "    "
   ]
  },
  {
   "cell_type": "code",
   "execution_count": 9,
   "metadata": {},
   "outputs": [
    {
     "name": "stdout",
     "output_type": "stream",
     "text": [
      "he\n",
      "something went wrong\n"
     ]
    }
   ],
   "source": [
    "lista = ['aa', 'gg', 'ee', 'tt', 'rr', 'dd']\n",
    "try:\n",
    "    i = int(input())\n",
    "\n",
    "    print(\"val =\", lista[i])\n",
    "except IndexError:\n",
    "    print(\"your indes should have been within\", len(lista)-1)\n",
    "    print(\"defaulting to zero\")\n",
    "    i = 0\n",
    "except NameError:\n",
    "    print(\"please check again, there may be a typo\")\n",
    "except:\n",
    "    print(\"something went wrong\")"
   ]
  },
  {
   "cell_type": "code",
   "execution_count": 10,
   "metadata": {},
   "outputs": [
    {
     "ename": "SyntaxError",
     "evalue": "invalid syntax (<ipython-input-10-3d8da12dd8d7>, line 6)",
     "output_type": "error",
     "traceback": [
      "\u001b[0;36m  File \u001b[0;32m\"<ipython-input-10-3d8da12dd8d7>\"\u001b[0;36m, line \u001b[0;32m6\u001b[0m\n\u001b[0;31m    print(\"hello\")\u001b[0m\n\u001b[0m        ^\u001b[0m\n\u001b[0;31mSyntaxError\u001b[0m\u001b[0;31m:\u001b[0m invalid syntax\n"
     ]
    }
   ],
   "source": [
    "lista = ['aa', 'gg', 'ee', 'tt', 'rr', 'dd']\n",
    "try:\n",
    "    i = int(input())\n",
    "\n",
    "    print(\"val =\", lista[i])\n",
    "print(\"hello\")\n",
    "except IndexError:\n",
    "    print(\"your indes should have been within\", len(lista)-1)\n",
    "    print(\"defaulting to zero\")\n",
    "    i = 0\n",
    "except NameError:\n",
    "    print(\"please check again, there may be a typo\")\n",
    "except:\n",
    "    print(\"something went wrong\")"
   ]
  },
  {
   "cell_type": "code",
   "execution_count": 11,
   "metadata": {},
   "outputs": [
    {
     "ename": "SyntaxError",
     "evalue": "default 'except:' must be last (<ipython-input-11-b6aa08fd731a>, line 8)",
     "output_type": "error",
     "traceback": [
      "\u001b[0;36m  File \u001b[0;32m\"<ipython-input-11-b6aa08fd731a>\"\u001b[0;36m, line \u001b[0;32m8\u001b[0m\n\u001b[0;31m    except IndexError:\u001b[0m\n\u001b[0m                      \n^\u001b[0m\n\u001b[0;31mSyntaxError\u001b[0m\u001b[0;31m:\u001b[0m default 'except:' must be last\n"
     ]
    }
   ],
   "source": [
    "lista = ['aa', 'gg', 'ee', 'tt', 'rr', 'dd']\n",
    "try:\n",
    "    i = int(input())\n",
    "\n",
    "    print(\"val =\", lista[i])\n",
    "except:\n",
    "    print(\"something went wrong\")\n",
    "except IndexError:\n",
    "    print(\"your indes should have been within\", len(lista)-1)\n",
    "    print(\"defaulting to zero\")\n",
    "    i = 0\n",
    "except NameError:\n",
    "    print(\"please check again, there may be a typo\")"
   ]
  },
  {
   "cell_type": "code",
   "execution_count": 13,
   "metadata": {},
   "outputs": [
    {
     "name": "stdout",
     "output_type": "stream",
     "text": [
      "2\n",
      "val = ee\n"
     ]
    }
   ],
   "source": [
    "lista = ['aa', 'gg', 'ee', 'tt', 'rr', 'dd']\n",
    "try:\n",
    "    i = int(input())\n",
    "\n",
    "    print(\"val =\", lista[i])\n",
    "except IndexError:\n",
    "    print(\"your indes should have been within\", len(lista)-1)\n",
    "    print(\"defaulting to zero\")\n",
    "    i = 0\n",
    "except NameError:\n",
    "    print(\"please check again, there may be a typo\")\n",
    "except:\n",
    "    print(\"something went wrong\")"
   ]
  },
  {
   "cell_type": "code",
   "execution_count": 16,
   "metadata": {},
   "outputs": [
    {
     "name": "stdout",
     "output_type": "stream",
     "text": [
      "he\n",
      "something went wrong\n"
     ]
    }
   ],
   "source": [
    "lista = ['aa', 'gg', 'ee', 'tt', 'rr', 'dd']\n",
    "try:\n",
    "    try:\n",
    "        i = int(input())\n",
    "\n",
    "        print(\"val =\", lista[i])\n",
    "    except IndexError:\n",
    "        print(\"your index should have been within\", len(lista)-1)\n",
    "        print(\"defaulting to zero\")\n",
    "        i = 0\n",
    "except NameError:\n",
    "    print(\"please check again, there may be a typo\")\n",
    "except:\n",
    "    print(\"something went wrong\")"
   ]
  },
  {
   "cell_type": "code",
   "execution_count": 25,
   "metadata": {},
   "outputs": [],
   "source": [
    "def funca(l):\n",
    "    try:\n",
    "        i = int(input())\n",
    "        print(\"val =\", la[i])\n",
    "    except IndexError:\n",
    "        print(\"your index should have been within\", len(l)-1)\n",
    "        print(\"defaulting to zero\")\n",
    "        i = 0"
   ]
  },
  {
   "cell_type": "code",
   "execution_count": 26,
   "metadata": {},
   "outputs": [
    {
     "name": "stdout",
     "output_type": "stream",
     "text": [
      "2\n",
      "please check again, there may be a typo\n"
     ]
    }
   ],
   "source": [
    "lista = ['aa', 'gg', 'ee', 'tt', 'rr', 'dd']\n",
    "try:\n",
    "    funca(lista)\n",
    "except NameError:\n",
    "    print(\"please check again, there may be a typo\")"
   ]
  },
  {
   "cell_type": "code",
   "execution_count": 27,
   "metadata": {},
   "outputs": [
    {
     "name": "stdout",
     "output_type": "stream",
     "text": [
      "2\n",
      "val = ee\n",
      "the else block executes\n",
      "finally block executes\n",
      "code continues\n"
     ]
    }
   ],
   "source": [
    "lista = ['aa', 'gg', 'ee', 'tt', 'rr', 'dd']\n",
    "\n",
    "try:\n",
    "    i = int(input())\n",
    "    print(\"val =\", lista[i])\n",
    "    \n",
    "except IndexError:\n",
    "    print(\"your index should have been within\", len(lista)-1)\n",
    "    print(\"defaulting to zero\")\n",
    "    i = 0\n",
    "    \n",
    "except NameError:\n",
    "    print(\"please check again, there may be a typo\")\n",
    "    \n",
    "else:\n",
    "    print(\"the else block executes\")\n",
    "    \n",
    "finally:\n",
    "    print(\"finally block executes\")\n",
    "\n",
    "print(\"code continues\") "
   ]
  },
  {
   "cell_type": "code",
   "execution_count": 28,
   "metadata": {},
   "outputs": [
    {
     "name": "stdout",
     "output_type": "stream",
     "text": [
      "11\n",
      "your index should have been within 5\n",
      "defaulting to zero\n",
      "finally block executes\n",
      "code continues\n"
     ]
    }
   ],
   "source": [
    "lista = ['aa', 'gg', 'ee', 'tt', 'rr', 'dd']\n",
    "\n",
    "try:\n",
    "    i = int(input())\n",
    "    print(\"val =\", lista[i])\n",
    "    \n",
    "except IndexError:\n",
    "    print(\"your index should have been within\", len(lista)-1)\n",
    "    print(\"defaulting to zero\")\n",
    "    i = 0\n",
    "    \n",
    "except NameError:\n",
    "    print(\"please check again, there may be a typo\")\n",
    "    \n",
    "else:\n",
    "    print(\"the else block executes\")\n",
    "    \n",
    "finally:\n",
    "    print(\"finally block executes\")\n",
    "\n",
    "print(\"code continues\") "
   ]
  },
  {
   "cell_type": "code",
   "execution_count": 29,
   "metadata": {},
   "outputs": [
    {
     "name": "stdout",
     "output_type": "stream",
     "text": [
      "he\n",
      "finally block executes\n"
     ]
    },
    {
     "ename": "ValueError",
     "evalue": "invalid literal for int() with base 10: 'he'",
     "output_type": "error",
     "traceback": [
      "\u001b[0;31m---------------------------------------------------------------------------\u001b[0m",
      "\u001b[0;31mValueError\u001b[0m                                Traceback (most recent call last)",
      "\u001b[0;32m<ipython-input-29-8d2144065998>\u001b[0m in \u001b[0;36m<module>\u001b[0;34m\u001b[0m\n\u001b[1;32m      2\u001b[0m \u001b[0;34m\u001b[0m\u001b[0m\n\u001b[1;32m      3\u001b[0m \u001b[0;32mtry\u001b[0m\u001b[0;34m:\u001b[0m\u001b[0;34m\u001b[0m\u001b[0;34m\u001b[0m\u001b[0m\n\u001b[0;32m----> 4\u001b[0;31m     \u001b[0mi\u001b[0m \u001b[0;34m=\u001b[0m \u001b[0mint\u001b[0m\u001b[0;34m(\u001b[0m\u001b[0minput\u001b[0m\u001b[0;34m(\u001b[0m\u001b[0;34m)\u001b[0m\u001b[0;34m)\u001b[0m\u001b[0;34m\u001b[0m\u001b[0;34m\u001b[0m\u001b[0m\n\u001b[0m\u001b[1;32m      5\u001b[0m     \u001b[0mprint\u001b[0m\u001b[0;34m(\u001b[0m\u001b[0;34m\"val =\"\u001b[0m\u001b[0;34m,\u001b[0m \u001b[0mlista\u001b[0m\u001b[0;34m[\u001b[0m\u001b[0mi\u001b[0m\u001b[0;34m]\u001b[0m\u001b[0;34m)\u001b[0m\u001b[0;34m\u001b[0m\u001b[0;34m\u001b[0m\u001b[0m\n\u001b[1;32m      6\u001b[0m \u001b[0;34m\u001b[0m\u001b[0m\n",
      "\u001b[0;31mValueError\u001b[0m: invalid literal for int() with base 10: 'he'"
     ]
    }
   ],
   "source": [
    "lista = ['aa', 'gg', 'ee', 'tt', 'rr', 'dd']\n",
    "\n",
    "try:\n",
    "    i = int(input())\n",
    "    print(\"val =\", lista[i])\n",
    "    \n",
    "except IndexError:\n",
    "    print(\"your index should have been within\", len(lista)-1)\n",
    "    print(\"defaulting to zero\")\n",
    "    i = 0\n",
    "    \n",
    "except NameError:\n",
    "    print(\"please check again, there may be a typo\")\n",
    "    \n",
    "else:\n",
    "    print(\"the else block executes\")\n",
    "    \n",
    "finally:\n",
    "    print(\"finally block executes\")\n",
    "\n",
    "print(\"code continues\") "
   ]
  },
  {
   "cell_type": "code",
   "execution_count": null,
   "metadata": {},
   "outputs": [],
   "source": []
  }
 ],
 "metadata": {
  "kernelspec": {
   "display_name": "Python 3",
   "language": "python",
   "name": "python3"
  },
  "language_info": {
   "codemirror_mode": {
    "name": "ipython",
    "version": 3
   },
   "file_extension": ".py",
   "mimetype": "text/x-python",
   "name": "python",
   "nbconvert_exporter": "python",
   "pygments_lexer": "ipython3",
   "version": "3.7.7"
  }
 },
 "nbformat": 4,
 "nbformat_minor": 4
}

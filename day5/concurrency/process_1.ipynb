{
 "cells": [
  {
   "cell_type": "code",
   "execution_count": 1,
   "metadata": {},
   "outputs": [],
   "source": [
    "import multiprocessing"
   ]
  },
  {
   "cell_type": "code",
   "execution_count": null,
   "metadata": {},
   "outputs": [],
   "source": [
    "def taskA():\n",
    "    for i in range(3, 0, -1):\n",
    "        print(i, \"seconds left for task A\")\n",
    "        time.sleep(1)\n",
    "        \n",
    "def taskB():\n",
    "    for i in range(9, 0, -1):\n",
    "        print(i, \"seconds left for task B\")\n",
    "        time.sleep(1)\n",
    "\n",
    "\n",
    "ta = multiprocessing.Process(target=taskA)\n",
    "tb = multiprocessing.Process(target=taskB)\n",
    "\n",
    "ta.start()\n",
    "tb.start()\n",
    "\n",
    "for i in range(6, 0, -1):\n",
    "    print(i, \"seconds left for task main\")\n",
    "    time.sleep(1)"
   ]
  }
 ],
 "metadata": {
  "kernelspec": {
   "display_name": "Python 3",
   "language": "python",
   "name": "python3"
  },
  "language_info": {
   "codemirror_mode": {
    "name": "ipython",
    "version": 3
   },
   "file_extension": ".py",
   "mimetype": "text/x-python",
   "name": "python",
   "nbconvert_exporter": "python",
   "pygments_lexer": "ipython3",
   "version": "3.7.7"
  }
 },
 "nbformat": 4,
 "nbformat_minor": 4
}

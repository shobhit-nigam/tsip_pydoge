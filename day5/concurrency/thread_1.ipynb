{
 "cells": [
  {
   "cell_type": "code",
   "execution_count": 1,
   "metadata": {},
   "outputs": [],
   "source": [
    "import time"
   ]
  },
  {
   "cell_type": "code",
   "execution_count": 2,
   "metadata": {},
   "outputs": [],
   "source": [
    "def taskA():\n",
    "    for i in range(3, 0, -1):\n",
    "        print(i, \"seconds left for task A\")\n",
    "        time.sleep(1)"
   ]
  },
  {
   "cell_type": "code",
   "execution_count": 4,
   "metadata": {},
   "outputs": [
    {
     "name": "stdout",
     "output_type": "stream",
     "text": [
      "3 seconds left for task A\n",
      "2 seconds left for task A\n",
      "1 seconds left for task A\n"
     ]
    }
   ],
   "source": [
    "taskA()"
   ]
  },
  {
   "cell_type": "code",
   "execution_count": 5,
   "metadata": {},
   "outputs": [],
   "source": [
    "def taskA():\n",
    "    for i in range(3, 0, -1):\n",
    "        print(i, \"seconds left for task A\")\n",
    "        time.sleep(1)\n",
    "        \n",
    "def taskB():\n",
    "    for i in range(9, 0, -1):\n",
    "        print(i, \"seconds left for task B\")\n",
    "        time.sleep(1)"
   ]
  },
  {
   "cell_type": "code",
   "execution_count": 7,
   "metadata": {},
   "outputs": [
    {
     "name": "stdout",
     "output_type": "stream",
     "text": [
      "3 seconds left for task A\n",
      "2 seconds left for task A\n",
      "1 seconds left for task A\n",
      "9 seconds left for task B\n",
      "8 seconds left for task B\n",
      "7 seconds left for task B\n",
      "6 seconds left for task B\n",
      "5 seconds left for task B\n",
      "4 seconds left for task B\n",
      "3 seconds left for task B\n",
      "2 seconds left for task B\n",
      "1 seconds left for task B\n",
      "6 seconds left for task main\n",
      "5 seconds left for task main\n",
      "4 seconds left for task main\n",
      "3 seconds left for task main\n",
      "2 seconds left for task main\n",
      "1 seconds left for task main\n"
     ]
    }
   ],
   "source": [
    "taskA()\n",
    "taskB()\n",
    "for i in range(6, 0, -1):\n",
    "    print(i, \"seconds left for task main\")\n",
    "    time.sleep(1)"
   ]
  },
  {
   "cell_type": "code",
   "execution_count": 8,
   "metadata": {},
   "outputs": [],
   "source": [
    "import threading"
   ]
  },
  {
   "cell_type": "code",
   "execution_count": 10,
   "metadata": {},
   "outputs": [
    {
     "name": "stdout",
     "output_type": "stream",
     "text": [
      "39 seconds left for task B\n",
      "6 seconds left for task A\n",
      " seconds left for task main\n",
      "8 seconds left for task B\n",
      "2 seconds left for task A\n",
      "5 seconds left for task main\n",
      "7 seconds left for task B\n",
      "1 seconds left for task A\n",
      "4 seconds left for task main\n",
      "6 seconds left for task B\n",
      "3 seconds left for task main\n",
      "5 seconds left for task B\n",
      "2 seconds left for task main\n",
      "4 seconds left for task B\n",
      "1 seconds left for task main\n",
      "3 seconds left for task B\n",
      "2 seconds left for task B\n",
      "1 seconds left for task B\n"
     ]
    }
   ],
   "source": [
    "ta = threading.Thread(target=taskA)\n",
    "tb = threading.Thread(target=taskB)\n",
    "\n",
    "ta.start()\n",
    "tb.start()\n",
    "\n",
    "for i in range(6, 0, -1):\n",
    "    print(i, \"seconds left for task main\")\n",
    "    time.sleep(1)"
   ]
  },
  {
   "cell_type": "code",
   "execution_count": 11,
   "metadata": {},
   "outputs": [],
   "source": [
    "def taskA(num):\n",
    "    for i in range(num, 0, -1):\n",
    "        print(i, \"seconds left for task A\")\n",
    "        time.sleep(1)\n",
    "        \n",
    "def taskB(num):\n",
    "    for i in range(num, 0, -1):\n",
    "        print(i, \"seconds left for task B\")\n",
    "        time.sleep(1)"
   ]
  },
  {
   "cell_type": "code",
   "execution_count": 13,
   "metadata": {},
   "outputs": [
    {
     "name": "stdout",
     "output_type": "stream",
     "text": [
      "3 seconds left for task A9\n",
      "6 seconds left for task B\n",
      " seconds left for task main\n",
      "582 seconds left for task main\n",
      " seconds left for task B\n",
      " seconds left for task A\n",
      "74 seconds left for task main\n",
      " seconds left for task B\n",
      "1 seconds left for task A\n",
      "36 seconds left for task B\n",
      " seconds left for task main\n",
      "5 seconds left for task B\n",
      "2 seconds left for task main\n",
      "4 seconds left for task B\n",
      "1 seconds left for task main\n",
      "3 seconds left for task B\n",
      "2 seconds left for task B\n",
      "1 seconds left for task B\n"
     ]
    }
   ],
   "source": [
    "ta = threading.Thread(target=taskA, args=(3,))\n",
    "tb = threading.Thread(target=taskB, args=(9,))\n",
    "\n",
    "ta.start()\n",
    "tb.start()\n",
    "\n",
    "for i in range(6, 0, -1):\n",
    "    print(i, \"seconds left for task main\")\n",
    "    time.sleep(1)"
   ]
  },
  {
   "cell_type": "code",
   "execution_count": 14,
   "metadata": {},
   "outputs": [],
   "source": [
    "def taskA(num):\n",
    "    fa = open(\"data.txt\", \"a\")\n",
    "    fa.write(\"hi\\n\")\n",
    "    time.sleep(1)\n",
    "    fa.write(\"hello\\n\")\n",
    "    time.sleep(1)\n",
    "    fa.write(\"one more line\\n\")\n",
    "    time.sleep(1)\n",
    "    fa.write(\"last line\\n\")\n",
    "    fa.close()\n",
    "        \n",
    "def taskB(num):\n",
    "    fa = open(\"data.txt\", \"r\")\n",
    "    stra = fa.read()\n",
    "    print(\"length of data read is \", len(stra))\n",
    "    print(\"read data is -->\\n\", stra)"
   ]
  },
  {
   "cell_type": "code",
   "execution_count": 15,
   "metadata": {},
   "outputs": [
    {
     "name": "stdout",
     "output_type": "stream",
     "text": [
      "length of data read is  33\n",
      "read data is -->\n",
      " some lines\n",
      "at the start\n",
      "some more\n"
     ]
    }
   ],
   "source": [
    "ta = threading.Thread(target=taskA, args=(3,))\n",
    "tb = threading.Thread(target=taskB, args=(9,))\n",
    "\n",
    "ta.start()\n",
    "tb.start()\n"
   ]
  },
  {
   "cell_type": "code",
   "execution_count": 16,
   "metadata": {},
   "outputs": [
    {
     "name": "stdout",
     "output_type": "stream",
     "text": [
      "task A requests for lock\n",
      "task A gets the lock\n",
      "task B requests for lock\n",
      "task A will release the lock\n",
      "task B gets the lock\n",
      "length of data read is  66\n",
      "read data is -->\n",
      " some lines\n",
      "at the start\n",
      "some morehi\n",
      "hello\n",
      "one more line\n",
      "last line\n",
      "\n",
      "task B will release the lock\n"
     ]
    }
   ],
   "source": [
    "loc = threading.Lock()\n",
    "\n",
    "def taskA():\n",
    "    global loc\n",
    "    print(\"task A requests for lock\")\n",
    "    loc.acquire()\n",
    "    print(\"task A gets the lock\")\n",
    "    fa = open(\"data.txt\", \"a\")\n",
    "    fa.write(\"hi\\n\")\n",
    "    time.sleep(1)\n",
    "    fa.write(\"hello\\n\")\n",
    "    time.sleep(1)\n",
    "    fa.write(\"one more line\\n\")\n",
    "    time.sleep(1)\n",
    "    fa.write(\"last line\\n\")\n",
    "    fa.close()\n",
    "    print(\"task A will release the lock\")\n",
    "    loc.release()    \n",
    "        \n",
    "def taskB():\n",
    "    global loc\n",
    "    time.sleep(0.5)\n",
    "    print(\"task B requests for lock\")\n",
    "    loc.acquire()\n",
    "    print(\"task B gets the lock\")\n",
    "    fa = open(\"data.txt\", \"r\")\n",
    "    stra = fa.read()\n",
    "    print(\"length of data read is \", len(stra))\n",
    "    print(\"read data is -->\\n\", stra)\n",
    "    print(\"task B will release the lock\")\n",
    "    loc.release()    \n",
    "    \n",
    "ta = threading.Thread(target=taskA)\n",
    "tb = threading.Thread(target=taskB)\n",
    "\n",
    "ta.start()\n",
    "tb.start()"
   ]
  },
  {
   "cell_type": "code",
   "execution_count": null,
   "metadata": {},
   "outputs": [],
   "source": []
  }
 ],
 "metadata": {
  "kernelspec": {
   "display_name": "Python 3",
   "language": "python",
   "name": "python3"
  },
  "language_info": {
   "codemirror_mode": {
    "name": "ipython",
    "version": 3
   },
   "file_extension": ".py",
   "mimetype": "text/x-python",
   "name": "python",
   "nbconvert_exporter": "python",
   "pygments_lexer": "ipython3",
   "version": "3.7.7"
  }
 },
 "nbformat": 4,
 "nbformat_minor": 4
}

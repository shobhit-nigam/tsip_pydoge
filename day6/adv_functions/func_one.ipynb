{
 "cells": [
  {
   "cell_type": "code",
   "execution_count": 1,
   "metadata": {},
   "outputs": [],
   "source": [
    "rava = \"rava\"\n",
    "choco = \"choco\""
   ]
  },
  {
   "cell_type": "code",
   "execution_count": 2,
   "metadata": {},
   "outputs": [],
   "source": [
    "def funa(x):\n",
    "    print(\"making\", x, \"laddoos\")"
   ]
  },
  {
   "cell_type": "code",
   "execution_count": 3,
   "metadata": {},
   "outputs": [],
   "source": [
    "def funb(x):\n",
    "    print(\"making\", x, \"modaks\")"
   ]
  },
  {
   "cell_type": "code",
   "execution_count": 4,
   "metadata": {},
   "outputs": [
    {
     "name": "stdout",
     "output_type": "stream",
     "text": [
      "making rava laddoos\n"
     ]
    }
   ],
   "source": [
    "funa(rava)"
   ]
  },
  {
   "cell_type": "code",
   "execution_count": 5,
   "metadata": {},
   "outputs": [
    {
     "name": "stdout",
     "output_type": "stream",
     "text": [
      "making choco modaks\n"
     ]
    }
   ],
   "source": [
    "funb(choco)"
   ]
  },
  {
   "cell_type": "code",
   "execution_count": 6,
   "metadata": {},
   "outputs": [],
   "source": [
    "def make(gen, x):\n",
    "    gen(x)"
   ]
  },
  {
   "cell_type": "code",
   "execution_count": 7,
   "metadata": {},
   "outputs": [
    {
     "name": "stdout",
     "output_type": "stream",
     "text": [
      "making choco laddoos\n"
     ]
    }
   ],
   "source": [
    "make(funa, choco)\n",
    "\n",
    "#   make(funa, choco)\n",
    "#       funa(choco)"
   ]
  },
  {
   "cell_type": "code",
   "execution_count": 8,
   "metadata": {},
   "outputs": [],
   "source": [
    "# higher order functions"
   ]
  },
  {
   "cell_type": "code",
   "execution_count": 9,
   "metadata": {},
   "outputs": [],
   "source": [
    "def grill(x):\n",
    "    print(\"grill the\", x)\n",
    "    \n",
    "def boil(x):\n",
    "    print(\"boil the\", x)\n",
    "    \n",
    "def deepFry(x):\n",
    "    print(\"deep fry the\", x)\n",
    "    \n",
    "def saute(x):\n",
    "    print(\"saute the\", x)\n",
    "    \n",
    "def tadka(x):\n",
    "    print(\"put tadka on\", x)"
   ]
  },
  {
   "cell_type": "code",
   "execution_count": 10,
   "metadata": {},
   "outputs": [],
   "source": [
    "lista = [boil, saute, grill, deepFry, tadka]"
   ]
  },
  {
   "cell_type": "code",
   "execution_count": 11,
   "metadata": {},
   "outputs": [],
   "source": [
    "def cook(la, x):\n",
    "    for gen in la:\n",
    "        if gen == grill:\n",
    "            pass\n",
    "        else:\n",
    "            gen(x)"
   ]
  },
  {
   "cell_type": "code",
   "execution_count": 13,
   "metadata": {},
   "outputs": [
    {
     "name": "stdout",
     "output_type": "stream",
     "text": [
      "boil the paneer\n",
      "saute the paneer\n",
      "deep fry the paneer\n",
      "put tadka on paneer\n"
     ]
    }
   ],
   "source": [
    "cook(lista, \"paneer\")"
   ]
  },
  {
   "cell_type": "code",
   "execution_count": null,
   "metadata": {},
   "outputs": [],
   "source": [
    "cook(lista, \"paneer\")"
   ]
  }
 ],
 "metadata": {
  "kernelspec": {
   "display_name": "Python 3",
   "language": "python",
   "name": "python3"
  },
  "language_info": {
   "codemirror_mode": {
    "name": "ipython",
    "version": 3
   },
   "file_extension": ".py",
   "mimetype": "text/x-python",
   "name": "python",
   "nbconvert_exporter": "python",
   "pygments_lexer": "ipython3",
   "version": "3.7.7"
  }
 },
 "nbformat": 4,
 "nbformat_minor": 4
}
